{
 "cells": [
  {
   "cell_type": "code",
   "execution_count": 1,
   "metadata": {},
   "outputs": [],
   "source": [
    "import torch\n",
    "import pennylane as qml\n",
    "from examples.compare_models.model_builder import ModelBuilder\n",
    "builder = ModelBuilder()"
   ]
  },
  {
   "cell_type": "code",
   "execution_count": null,
   "metadata": {},
   "outputs": [],
   "source": [
    "num_samples = 10\n",
    "num_models = 1\n",
    "for id in range(1, num_models+1):\n",
    "    model = builder.create_model(id)\n",
    "    num_features = builder.get_model_config(id)[\"num_features\"]\n",
    "    x = torch.randn(num_samples, num_features)\n",
    "    y = model(x)"
   ]
  },
  {
   "cell_type": "code",
   "execution_count": 3,
   "metadata": {},
   "outputs": [
    {
     "name": "stdout",
     "output_type": "stream",
     "text": [
      "{'init_varlayer': False, 'qkernel': True, 'init_varlayer_nlayers': 1, 'upload_type': 'Parallel', 'num_features': 1, 'num_repeat_parallel': 3, 'num_reuploads': 1, 'num_varlayers': 1, 'num_repeats': 1, 'omega': 1.0, 'hamiltonian_type': 'Z0', 'id': 7}\n",
      "tensor([0.7422])\n",
      "0: ──H──RZ(0.74)──RZ(0.74)†──H†─┤ ╭<|000⟩⟨000|>\n",
      "1: ──H──RZ(1.48)──RZ(1.48)†──H†─┤ ├<|000⟩⟨000|>\n",
      "2: ──H──RZ(2.97)──RZ(2.97)†──H†─┤ ╰<|000⟩⟨000|>\n"
     ]
    }
   ],
   "source": [
    "id = 7\n",
    "model = builder.create_model(id)\n",
    "num_features = builder.get_model_config(id)[\"num_features\"]\n",
    "x = torch.randn(num_features)\n",
    "drawer = qml.draw(model.qnode, show_all_wires=True, expansion_strategy=\"device\")\n",
    "print(builder.get_model_config(id))\n",
    "print(x)\n",
    "print(drawer(x, x))"
   ]
  },
  {
   "cell_type": "code",
   "execution_count": null,
   "metadata": {},
   "outputs": [],
   "source": [
    "builder.print_all_model_configs()"
   ]
  }
 ],
 "metadata": {
  "kernelspec": {
   "display_name": "QuLearn",
   "language": "python",
   "name": "python3"
  },
  "language_info": {
   "codemirror_mode": {
    "name": "ipython",
    "version": 3
   },
   "file_extension": ".py",
   "mimetype": "text/x-python",
   "name": "python",
   "nbconvert_exporter": "python",
   "pygments_lexer": "ipython3",
   "version": "3.11.4"
  },
  "orig_nbformat": 4
 },
 "nbformat": 4,
 "nbformat_minor": 2
}
