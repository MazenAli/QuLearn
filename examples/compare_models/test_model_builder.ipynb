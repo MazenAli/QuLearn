{
 "cells": [
  {
   "cell_type": "code",
   "execution_count": 8,
   "metadata": {},
   "outputs": [],
   "source": [
    "import torch\n",
    "import pennylane as qml\n",
    "from examples.compare_models.model_builder import ModelBuilder\n",
    "builder = ModelBuilder()"
   ]
  },
  {
   "cell_type": "code",
   "execution_count": null,
   "metadata": {},
   "outputs": [],
   "source": [
    "num_samples = 10\n",
    "num_models = 1\n",
    "for id in range(1, num_models+1):\n",
    "    model = builder.create_model(id)\n",
    "    num_features = builder.get_model_config(id)[\"num_features\"]\n",
    "    x = torch.randn(num_samples, num_features)\n",
    "    y = model(x)"
   ]
  },
  {
   "cell_type": "code",
   "execution_count": 10,
   "metadata": {},
   "outputs": [
    {
     "name": "stdout",
     "output_type": "stream",
     "text": [
      "{'init_varlayer': False, 'qkernel': True, 'init_varlayer_nlayers': 1, 'upload_type': 'ParallelEntangled', 'num_features': 1, 'num_repeat_parallel': 3, 'num_reuploads': 1, 'num_varlayers': 3, 'num_repeats': 1, 'omega': 1.0, 'hamiltonian_type': 'Z0', 'id': 8}\n",
      "tensor([1.4666])\n",
      "0: ──H──RZ(1.47)─╭MultiRZ(4.30)─╭MultiRZ(8.60)──────────────────────────────────╭MultiRZ(8.60)†\n",
      "1: ──H──RZ(2.93)─╰MultiRZ(4.30)─│──────────────╭MultiRZ(17.21)─╭MultiRZ(17.21)†─│──────────────\n",
      "2: ──H──RZ(5.87)────────────────╰MultiRZ(8.60)─╰MultiRZ(17.21)─╰MultiRZ(17.21)†─╰MultiRZ(8.60)†\n",
      "\n",
      "──╭MultiRZ(4.30)†──RZ(1.47)†──H†─┤ ╭<|000⟩⟨000|>\n",
      "──╰MultiRZ(4.30)†──RZ(2.93)†──H†─┤ ├<|000⟩⟨000|>\n",
      "───RZ(5.87)†───────H†────────────┤ ╰<|000⟩⟨000|>\n"
     ]
    }
   ],
   "source": [
    "id = 8\n",
    "model = builder.create_model(id)\n",
    "num_features = builder.get_model_config(id)[\"num_features\"]\n",
    "x = torch.randn(num_features)\n",
    "drawer = qml.draw(model.qnode, show_all_wires=True, expansion_strategy=\"device\")\n",
    "print(builder.get_model_config(id))\n",
    "print(x)\n",
    "print(drawer(x, x))"
   ]
  },
  {
   "cell_type": "code",
   "execution_count": null,
   "metadata": {},
   "outputs": [],
   "source": [
    "builder.print_all_model_configs()"
   ]
  }
 ],
 "metadata": {
  "kernelspec": {
   "display_name": "QuLearn",
   "language": "python",
   "name": "python3"
  },
  "language_info": {
   "codemirror_mode": {
    "name": "ipython",
    "version": 3
   },
   "file_extension": ".py",
   "mimetype": "text/x-python",
   "name": "python",
   "nbconvert_exporter": "python",
   "pygments_lexer": "ipython3",
   "version": "3.11.4"
  },
  "orig_nbformat": 4
 },
 "nbformat": 4,
 "nbformat_minor": 2
}
