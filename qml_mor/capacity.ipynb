{
 "cells": [
  {
   "attachments": {},
   "cell_type": "markdown",
   "metadata": {},
   "source": [
    "# Imports"
   ]
  },
  {
   "cell_type": "code",
   "execution_count": 207,
   "metadata": {},
   "outputs": [],
   "source": [
    "# imports\n",
    "import pennylane as qml\n",
    "import numpy as np\n",
    "import torch\n",
    "from torch.autograd import Variable\n",
    "from sklearn.preprocessing import MinMaxScaler"
   ]
  },
  {
   "attachments": {},
   "cell_type": "markdown",
   "metadata": {},
   "source": [
    "# Model Definition"
   ]
  },
  {
   "cell_type": "code",
   "execution_count": 208,
   "metadata": {},
   "outputs": [],
   "source": [
    "# feature layer\n",
    "def feature_layer(x):\n",
    "    num_qubits = len(x)\n",
    "    qml.IQPEmbedding(x, wires=range(num_qubits))"
   ]
  },
  {
   "cell_type": "code",
   "execution_count": 209,
   "metadata": {},
   "outputs": [],
   "source": [
    "# variational layer\n",
    "def variational_layer(init_theta, theta, num_qubits):\n",
    "    qml.SimplifiedTwoDesign(initial_layer_weights=init_theta, weights=theta, wires=range(num_qubits))"
   ]
  },
  {
   "cell_type": "code",
   "execution_count": 210,
   "metadata": {},
   "outputs": [],
   "source": [
    "# observable / output layer\n",
    "def sequence_generator(n):\n",
    "    if n == 0:\n",
    "        return [[]]\n",
    "    else:\n",
    "        sequences = []\n",
    "        for sequence in sequence_generator(n-1):\n",
    "            sequences.append(sequence + [n-1])\n",
    "            sequences.append(sequence)\n",
    "        return sequences\n",
    "    \n",
    "def parities(n):\n",
    "    \n",
    "    seq = sequence_generator(n)\n",
    "    ops = []\n",
    "    for par in seq:\n",
    "        if par:\n",
    "            tmp = qml.PauliZ(par[0])\n",
    "            if len(par) > 1:\n",
    "                for i in par[1:]:\n",
    "                    tmp = tmp @ qml.PauliZ(i)\n",
    "\n",
    "            ops.append(tmp)\n",
    "\n",
    "    ops.append(qml.Identity(0))\n",
    "\n",
    "    return ops"
   ]
  },
  {
   "cell_type": "code",
   "execution_count": 211,
   "metadata": {},
   "outputs": [],
   "source": [
    "# device\n",
    "num_qubits = 3\n",
    "shots      = None\n",
    "dev        = qml.device('default.qubit', wires=num_qubits, shots=shots)"
   ]
  },
  {
   "cell_type": "code",
   "execution_count": 212,
   "metadata": {},
   "outputs": [],
   "source": [
    "# QNN model\n",
    "@qml.qnode(dev, interface='torch')\n",
    "def qnn_model(x, init_theta, theta, W, omega=0.):\n",
    "\n",
    "    num_qubits = len(x)\n",
    "    shape_init = init_theta.shape\n",
    "    reps       = 1\n",
    "    if len(shape_init) < 1:\n",
    "        init_theta = [init_theta]\n",
    "        shape_init = init_theta.shape\n",
    "        reps       = shape_init[0]\n",
    "\n",
    "    shape_theta = theta.shape\n",
    "    reps_       = 1\n",
    "    if len(shape_theta) < 3:\n",
    "        theta       = [theta]\n",
    "        shape_theta = theta.shape\n",
    "        reps_       = shape_theta[0]\n",
    "\n",
    "    assert reps == reps_\n",
    "\n",
    "    for l in range(reps):\n",
    "        feature_layer(2**(omega*l)*x)\n",
    "        variational_layer(init_theta[l], theta[l], num_qubits)\n",
    "    \n",
    "    num_qubits = len(x)\n",
    "    for l in range(reps):\n",
    "        feature_layer(x)\n",
    "        variational_layer(init_theta[l], theta[l], num_qubits)\n",
    "\n",
    "    obs = parities(num_qubits)\n",
    "    H   = qml.Hamiltonian(W, obs)\n",
    "\n",
    "    return qml.expval(H)"
   ]
  },
  {
   "cell_type": "code",
   "execution_count": 213,
   "metadata": {},
   "outputs": [
    {
     "name": "stdout",
     "output_type": "stream",
     "text": [
      "(<Figure size 700x400 with 1 Axes>, <Axes: >)\n"
     ]
    },
    {
     "data": {
      "image/svg+xml": "<?xml version=\"1.0\" encoding=\"utf-8\" standalone=\"no\"?>\n<!DOCTYPE svg PUBLIC \"-//W3C//DTD SVG 1.1//EN\"\n  \"http://www.w3.org/Graphics/SVG/1.1/DTD/svg11.dtd\">\n<svg xmlns:xlink=\"http://www.w3.org/1999/xlink\" width=\"518.4pt\" height=\"302.4pt\" viewBox=\"0 0 518.4 302.4\" xmlns=\"http://www.w3.org/2000/svg\" version=\"1.1\">\n <metadata>\n  <rdf:RDF xmlns:dc=\"http://purl.org/dc/elements/1.1/\" xmlns:cc=\"http://creativecommons.org/ns#\" xmlns:rdf=\"http://www.w3.org/1999/02/22-rdf-syntax-ns#\">\n   <cc:Work>\n    <dc:type rdf:resource=\"http://purl.org/dc/dcmitype/StillImage\"/>\n    <dc:date>2023-03-09T15:55:34.287432</dc:date>\n    <dc:format>image/svg+xml</dc:format>\n    <dc:creator>\n     <cc:Agent>\n      <dc:title>Matplotlib v3.6.3, https://matplotlib.org/</dc:title>\n     </cc:Agent>\n    </dc:creator>\n   </cc:Work>\n  </rdf:RDF>\n </metadata>\n <defs>\n  <style type=\"text/css\">*{stroke-linejoin: round; stroke-linecap: butt}</style>\n </defs>\n <g id=\"figure_1\">\n  <g id=\"patch_1\">\n   <path d=\"M 0 302.4 \nL 518.4 302.4 \nL 518.4 0 \nL 0 0 \nz\n\" style=\"fill: #ffffff\"/>\n  </g>\n  <g id=\"axes_1\">\n   <g id=\"line2d_1\">\n    <path d=\"M 79.2 79.2 \nL 439.2 79.2 \n\" clip-path=\"url(#p841134046f)\" style=\"fill: none; stroke: #000000; stroke-width: 1.5; stroke-linecap: square\"/>\n   </g>\n   <g id=\"line2d_2\">\n    <path d=\"M 79.2 151.2 \nL 439.2 151.2 \n\" clip-path=\"url(#p841134046f)\" style=\"fill: none; stroke: #000000; stroke-width: 1.5; stroke-linecap: square\"/>\n   </g>\n   <g id=\"line2d_3\">\n    <path d=\"M 79.2 223.2 \nL 439.2 223.2 \n\" clip-path=\"url(#p841134046f)\" style=\"fill: none; stroke: #000000; stroke-width: 1.5; stroke-linecap: square\"/>\n   </g>\n   <g id=\"patch_2\">\n    <path d=\"M 426.6 52.2 \nL 451.8 52.2 \nQ 466.2 52.2 466.2 66.6 \nL 466.2 91.8 \nQ 466.2 106.2 451.8 106.2 \nL 426.6 106.2 \nQ 412.2 106.2 412.2 91.8 \nL 412.2 66.6 \nQ 412.2 52.2 426.6 52.2 \nz\n\" clip-path=\"url(#p841134046f)\" style=\"fill: #ffffff; stroke: #000000; stroke-width: 3; stroke-linejoin: miter\"/>\n   </g>\n   <g id=\"patch_3\">\n    <path d=\"M 426.6 124.2 \nL 451.8 124.2 \nQ 466.2 124.2 466.2 138.6 \nL 466.2 163.8 \nQ 466.2 178.2 451.8 178.2 \nL 426.6 178.2 \nQ 412.2 178.2 412.2 163.8 \nL 412.2 138.6 \nQ 412.2 124.2 426.6 124.2 \nz\n\" clip-path=\"url(#p841134046f)\" style=\"fill: #ffffff; stroke: #000000; stroke-width: 3; stroke-linejoin: miter\"/>\n   </g>\n   <g id=\"patch_4\">\n    <path d=\"M 426.6 196.2 \nL 451.8 196.2 \nQ 466.2 196.2 466.2 210.6 \nL 466.2 235.8 \nQ 466.2 250.2 451.8 250.2 \nL 426.6 250.2 \nQ 412.2 250.2 412.2 235.8 \nL 412.2 210.6 \nQ 412.2 196.2 426.6 196.2 \nz\n\" clip-path=\"url(#p841134046f)\" style=\"fill: #ffffff; stroke: #000000; stroke-width: 3; stroke-linejoin: miter\"/>\n   </g>\n   <g id=\"text_1\">\n    <!-- 0 -->\n    <g transform=\"translate(38.74625 83.063125) scale(0.14 -0.14)\">\n     <defs>\n      <path id=\"DejaVuSans-30\" d=\"M 2034 4250 \nQ 1547 4250 1301 3770 \nQ 1056 3291 1056 2328 \nQ 1056 1369 1301 889 \nQ 1547 409 2034 409 \nQ 2525 409 2770 889 \nQ 3016 1369 3016 2328 \nQ 3016 3291 2770 3770 \nQ 2525 4250 2034 4250 \nz\nM 2034 4750 \nQ 2819 4750 3233 4129 \nQ 3647 3509 3647 2328 \nQ 3647 1150 3233 529 \nQ 2819 -91 2034 -91 \nQ 1250 -91 836 529 \nQ 422 1150 422 2328 \nQ 422 3509 836 4129 \nQ 1250 4750 2034 4750 \nz\n\" transform=\"scale(0.015625)\"/>\n     </defs>\n     <use xlink:href=\"#DejaVuSans-30\"/>\n    </g>\n   </g>\n   <g id=\"text_2\">\n    <!-- 1 -->\n    <g transform=\"translate(38.74625 155.063125) scale(0.14 -0.14)\">\n     <defs>\n      <path id=\"DejaVuSans-31\" d=\"M 794 531 \nL 1825 531 \nL 1825 4091 \nL 703 3866 \nL 703 4441 \nL 1819 4666 \nL 2450 4666 \nL 2450 531 \nL 3481 531 \nL 3481 0 \nL 794 0 \nL 794 531 \nz\n\" transform=\"scale(0.015625)\"/>\n     </defs>\n     <use xlink:href=\"#DejaVuSans-31\"/>\n    </g>\n   </g>\n   <g id=\"text_3\">\n    <!-- 2 -->\n    <g transform=\"translate(38.74625 227.063125) scale(0.14 -0.14)\">\n     <defs>\n      <path id=\"DejaVuSans-32\" d=\"M 1228 531 \nL 3431 531 \nL 3431 0 \nL 469 0 \nL 469 531 \nQ 828 903 1448 1529 \nQ 2069 2156 2228 2338 \nQ 2531 2678 2651 2914 \nQ 2772 3150 2772 3378 \nQ 2772 3750 2511 3984 \nQ 2250 4219 1831 4219 \nQ 1534 4219 1204 4116 \nQ 875 4013 500 3803 \nL 500 4441 \nQ 881 4594 1212 4672 \nQ 1544 4750 1819 4750 \nQ 2544 4750 2975 4387 \nQ 3406 4025 3406 3419 \nQ 3406 3131 3298 2873 \nQ 3191 2616 2906 2266 \nQ 2828 2175 2409 1742 \nQ 1991 1309 1228 531 \nz\n\" transform=\"scale(0.015625)\"/>\n     </defs>\n     <use xlink:href=\"#DejaVuSans-32\"/>\n    </g>\n   </g>\n   <g id=\"patch_5\">\n    <path d=\"M 423 82.575 \nC 423 78.638046 424.707946 74.858311 427.74487 72.074464 \nC 430.781794 69.290617 434.905141 67.725 439.2 67.725 \nC 443.494859 67.725 447.618206 69.290617 450.65513 72.074464 \nC 453.692054 74.858311 455.4 78.638046 455.4 82.575 \n\" clip-path=\"url(#p841134046f)\" style=\"fill: none; stroke: #000000; stroke-width: 3; stroke-linejoin: miter\"/>\n   </g>\n   <g id=\"patch_6\">\n    <path d=\"M 423 154.575 \nC 423 150.638046 424.707946 146.858311 427.74487 144.074464 \nC 430.781794 141.290617 434.905141 139.725 439.2 139.725 \nC 443.494859 139.725 447.618206 141.290617 450.65513 144.074464 \nC 453.692054 146.858311 455.4 150.638046 455.4 154.575 \n\" clip-path=\"url(#p841134046f)\" style=\"fill: none; stroke: #000000; stroke-width: 3; stroke-linejoin: miter\"/>\n   </g>\n   <g id=\"patch_7\">\n    <path d=\"M 423 226.575 \nC 423 222.638046 424.707946 218.858311 427.74487 216.074464 \nC 430.781794 213.290617 434.905141 211.725 439.2 211.725 \nC 443.494859 211.725 447.618206 213.290617 450.65513 216.074464 \nC 453.692054 218.858311 455.4 222.638046 455.4 226.575 \n\" clip-path=\"url(#p841134046f)\" style=\"fill: none; stroke: #000000; stroke-width: 3; stroke-linejoin: miter\"/>\n   </g>\n   <g id=\"patch_8\">\n    <path d=\"M 138.6 52.2 \nL 163.8 52.2 \nQ 178.2 52.2 178.2 66.6 \nL 178.2 235.8 \nQ 178.2 250.2 163.8 250.2 \nL 138.6 250.2 \nQ 124.2 250.2 124.2 235.8 \nL 124.2 66.6 \nQ 124.2 52.2 138.6 52.2 \nz\n\" clip-path=\"url(#p841134046f)\" style=\"fill: #ffffff; stroke: #000000; stroke-width: 3; stroke-linejoin: miter\"/>\n   </g>\n   <g id=\"patch_9\">\n    <path d=\"M 210.6 52.2 \nL 235.8 52.2 \nQ 250.2 52.2 250.2 66.6 \nL 250.2 235.8 \nQ 250.2 250.2 235.8 250.2 \nL 210.6 250.2 \nQ 196.2 250.2 196.2 235.8 \nL 196.2 66.6 \nQ 196.2 52.2 210.6 52.2 \nz\n\" clip-path=\"url(#p841134046f)\" style=\"fill: #ffffff; stroke: #000000; stroke-width: 3; stroke-linejoin: miter\"/>\n   </g>\n   <g id=\"patch_10\">\n    <path d=\"M 282.6 52.2 \nL 307.8 52.2 \nQ 322.2 52.2 322.2 66.6 \nL 322.2 235.8 \nQ 322.2 250.2 307.8 250.2 \nL 282.6 250.2 \nQ 268.2 250.2 268.2 235.8 \nL 268.2 66.6 \nQ 268.2 52.2 282.6 52.2 \nz\n\" clip-path=\"url(#p841134046f)\" style=\"fill: #ffffff; stroke: #000000; stroke-width: 3; stroke-linejoin: miter\"/>\n   </g>\n   <g id=\"patch_11\">\n    <path d=\"M 354.6 52.2 \nL 379.8 52.2 \nQ 394.2 52.2 394.2 66.6 \nL 394.2 235.8 \nQ 394.2 250.2 379.8 250.2 \nL 354.6 250.2 \nQ 340.2 250.2 340.2 235.8 \nL 340.2 66.6 \nQ 340.2 52.2 354.6 52.2 \nz\n\" clip-path=\"url(#p841134046f)\" style=\"fill: #ffffff; stroke: #000000; stroke-width: 3; stroke-linejoin: miter\"/>\n   </g>\n   <g id=\"patch_12\">\n    <path d=\"M 451.69927 57.017884 \nL 443.595961 63.963577 \nL 446.45913 65.681478 \nL 430.25913 92.681478 \nL 430.32087 92.718522 \nL 446.52087 65.718522 \nL 449.384039 67.436423 \nz\n\" clip-path=\"url(#p841134046f)\" style=\"fill: #ffffff; stroke: #000000; stroke-width: 3; stroke-linejoin: miter\"/>\n   </g>\n   <g id=\"patch_13\">\n    <path d=\"M 451.69927 129.017884 \nL 443.595961 135.963577 \nL 446.45913 137.681478 \nL 430.25913 164.681478 \nL 430.32087 164.718522 \nL 446.52087 137.718522 \nL 449.384039 139.436423 \nz\n\" clip-path=\"url(#p841134046f)\" style=\"fill: #ffffff; stroke: #000000; stroke-width: 3; stroke-linejoin: miter\"/>\n   </g>\n   <g id=\"patch_14\">\n    <path d=\"M 451.69927 201.017884 \nL 443.595961 207.963577 \nL 446.45913 209.681478 \nL 430.25913 236.681478 \nL 430.32087 236.718522 \nL 446.52087 209.718522 \nL 449.384039 211.436423 \nz\n\" clip-path=\"url(#p841134046f)\" style=\"fill: #ffffff; stroke: #000000; stroke-width: 3; stroke-linejoin: miter\"/>\n   </g>\n   <g id=\"text_4\">\n    <!-- IQPEmbedding -->\n    <g transform=\"translate(155.063125 202.701406) rotate(-90) scale(0.14 -0.14)\">\n     <defs>\n      <path id=\"DejaVuSans-49\" d=\"M 628 4666 \nL 1259 4666 \nL 1259 0 \nL 628 0 \nL 628 4666 \nz\n\" transform=\"scale(0.015625)\"/>\n      <path id=\"DejaVuSans-51\" d=\"M 2522 4238 \nQ 1834 4238 1429 3725 \nQ 1025 3213 1025 2328 \nQ 1025 1447 1429 934 \nQ 1834 422 2522 422 \nQ 3209 422 3611 934 \nQ 4013 1447 4013 2328 \nQ 4013 3213 3611 3725 \nQ 3209 4238 2522 4238 \nz\nM 3406 84 \nL 4238 -825 \nL 3475 -825 \nL 2784 -78 \nQ 2681 -84 2626 -87 \nQ 2572 -91 2522 -91 \nQ 1538 -91 948 567 \nQ 359 1225 359 2328 \nQ 359 3434 948 4092 \nQ 1538 4750 2522 4750 \nQ 3503 4750 4090 4092 \nQ 4678 3434 4678 2328 \nQ 4678 1516 4351 937 \nQ 4025 359 3406 84 \nz\n\" transform=\"scale(0.015625)\"/>\n      <path id=\"DejaVuSans-50\" d=\"M 1259 4147 \nL 1259 2394 \nL 2053 2394 \nQ 2494 2394 2734 2622 \nQ 2975 2850 2975 3272 \nQ 2975 3691 2734 3919 \nQ 2494 4147 2053 4147 \nL 1259 4147 \nz\nM 628 4666 \nL 2053 4666 \nQ 2838 4666 3239 4311 \nQ 3641 3956 3641 3272 \nQ 3641 2581 3239 2228 \nQ 2838 1875 2053 1875 \nL 1259 1875 \nL 1259 0 \nL 628 0 \nL 628 4666 \nz\n\" transform=\"scale(0.015625)\"/>\n      <path id=\"DejaVuSans-45\" d=\"M 628 4666 \nL 3578 4666 \nL 3578 4134 \nL 1259 4134 \nL 1259 2753 \nL 3481 2753 \nL 3481 2222 \nL 1259 2222 \nL 1259 531 \nL 3634 531 \nL 3634 0 \nL 628 0 \nL 628 4666 \nz\n\" transform=\"scale(0.015625)\"/>\n      <path id=\"DejaVuSans-6d\" d=\"M 3328 2828 \nQ 3544 3216 3844 3400 \nQ 4144 3584 4550 3584 \nQ 5097 3584 5394 3201 \nQ 5691 2819 5691 2113 \nL 5691 0 \nL 5113 0 \nL 5113 2094 \nQ 5113 2597 4934 2840 \nQ 4756 3084 4391 3084 \nQ 3944 3084 3684 2787 \nQ 3425 2491 3425 1978 \nL 3425 0 \nL 2847 0 \nL 2847 2094 \nQ 2847 2600 2669 2842 \nQ 2491 3084 2119 3084 \nQ 1678 3084 1418 2786 \nQ 1159 2488 1159 1978 \nL 1159 0 \nL 581 0 \nL 581 3500 \nL 1159 3500 \nL 1159 2956 \nQ 1356 3278 1631 3431 \nQ 1906 3584 2284 3584 \nQ 2666 3584 2933 3390 \nQ 3200 3197 3328 2828 \nz\n\" transform=\"scale(0.015625)\"/>\n      <path id=\"DejaVuSans-62\" d=\"M 3116 1747 \nQ 3116 2381 2855 2742 \nQ 2594 3103 2138 3103 \nQ 1681 3103 1420 2742 \nQ 1159 2381 1159 1747 \nQ 1159 1113 1420 752 \nQ 1681 391 2138 391 \nQ 2594 391 2855 752 \nQ 3116 1113 3116 1747 \nz\nM 1159 2969 \nQ 1341 3281 1617 3432 \nQ 1894 3584 2278 3584 \nQ 2916 3584 3314 3078 \nQ 3713 2572 3713 1747 \nQ 3713 922 3314 415 \nQ 2916 -91 2278 -91 \nQ 1894 -91 1617 61 \nQ 1341 213 1159 525 \nL 1159 0 \nL 581 0 \nL 581 4863 \nL 1159 4863 \nL 1159 2969 \nz\n\" transform=\"scale(0.015625)\"/>\n      <path id=\"DejaVuSans-65\" d=\"M 3597 1894 \nL 3597 1613 \nL 953 1613 \nQ 991 1019 1311 708 \nQ 1631 397 2203 397 \nQ 2534 397 2845 478 \nQ 3156 559 3463 722 \nL 3463 178 \nQ 3153 47 2828 -22 \nQ 2503 -91 2169 -91 \nQ 1331 -91 842 396 \nQ 353 884 353 1716 \nQ 353 2575 817 3079 \nQ 1281 3584 2069 3584 \nQ 2775 3584 3186 3129 \nQ 3597 2675 3597 1894 \nz\nM 3022 2063 \nQ 3016 2534 2758 2815 \nQ 2500 3097 2075 3097 \nQ 1594 3097 1305 2825 \nQ 1016 2553 972 2059 \nL 3022 2063 \nz\n\" transform=\"scale(0.015625)\"/>\n      <path id=\"DejaVuSans-64\" d=\"M 2906 2969 \nL 2906 4863 \nL 3481 4863 \nL 3481 0 \nL 2906 0 \nL 2906 525 \nQ 2725 213 2448 61 \nQ 2172 -91 1784 -91 \nQ 1150 -91 751 415 \nQ 353 922 353 1747 \nQ 353 2572 751 3078 \nQ 1150 3584 1784 3584 \nQ 2172 3584 2448 3432 \nQ 2725 3281 2906 2969 \nz\nM 947 1747 \nQ 947 1113 1208 752 \nQ 1469 391 1925 391 \nQ 2381 391 2643 752 \nQ 2906 1113 2906 1747 \nQ 2906 2381 2643 2742 \nQ 2381 3103 1925 3103 \nQ 1469 3103 1208 2742 \nQ 947 2381 947 1747 \nz\n\" transform=\"scale(0.015625)\"/>\n      <path id=\"DejaVuSans-69\" d=\"M 603 3500 \nL 1178 3500 \nL 1178 0 \nL 603 0 \nL 603 3500 \nz\nM 603 4863 \nL 1178 4863 \nL 1178 4134 \nL 603 4134 \nL 603 4863 \nz\n\" transform=\"scale(0.015625)\"/>\n      <path id=\"DejaVuSans-6e\" d=\"M 3513 2113 \nL 3513 0 \nL 2938 0 \nL 2938 2094 \nQ 2938 2591 2744 2837 \nQ 2550 3084 2163 3084 \nQ 1697 3084 1428 2787 \nQ 1159 2491 1159 1978 \nL 1159 0 \nL 581 0 \nL 581 3500 \nL 1159 3500 \nL 1159 2956 \nQ 1366 3272 1645 3428 \nQ 1925 3584 2291 3584 \nQ 2894 3584 3203 3211 \nQ 3513 2838 3513 2113 \nz\n\" transform=\"scale(0.015625)\"/>\n      <path id=\"DejaVuSans-67\" d=\"M 2906 1791 \nQ 2906 2416 2648 2759 \nQ 2391 3103 1925 3103 \nQ 1463 3103 1205 2759 \nQ 947 2416 947 1791 \nQ 947 1169 1205 825 \nQ 1463 481 1925 481 \nQ 2391 481 2648 825 \nQ 2906 1169 2906 1791 \nz\nM 3481 434 \nQ 3481 -459 3084 -895 \nQ 2688 -1331 1869 -1331 \nQ 1566 -1331 1297 -1286 \nQ 1028 -1241 775 -1147 \nL 775 -588 \nQ 1028 -725 1275 -790 \nQ 1522 -856 1778 -856 \nQ 2344 -856 2625 -561 \nQ 2906 -266 2906 331 \nL 2906 616 \nQ 2728 306 2450 153 \nQ 2172 0 1784 0 \nQ 1141 0 747 490 \nQ 353 981 353 1791 \nQ 353 2603 747 3093 \nQ 1141 3584 1784 3584 \nQ 2172 3584 2450 3431 \nQ 2728 3278 2906 2969 \nL 2906 3500 \nL 3481 3500 \nL 3481 434 \nz\n\" transform=\"scale(0.015625)\"/>\n     </defs>\n     <use xlink:href=\"#DejaVuSans-49\"/>\n     <use xlink:href=\"#DejaVuSans-51\" x=\"29.492188\"/>\n     <use xlink:href=\"#DejaVuSans-50\" x=\"108.203125\"/>\n     <use xlink:href=\"#DejaVuSans-45\" x=\"168.505859\"/>\n     <use xlink:href=\"#DejaVuSans-6d\" x=\"231.689453\"/>\n     <use xlink:href=\"#DejaVuSans-62\" x=\"329.101562\"/>\n     <use xlink:href=\"#DejaVuSans-65\" x=\"392.578125\"/>\n     <use xlink:href=\"#DejaVuSans-64\" x=\"454.101562\"/>\n     <use xlink:href=\"#DejaVuSans-64\" x=\"517.578125\"/>\n     <use xlink:href=\"#DejaVuSans-69\" x=\"581.054688\"/>\n     <use xlink:href=\"#DejaVuSans-6e\" x=\"608.837891\"/>\n     <use xlink:href=\"#DejaVuSans-67\" x=\"672.216797\"/>\n    </g>\n   </g>\n   <g id=\"text_5\">\n    <!-- SimplifiedTwoDesign -->\n    <g transform=\"translate(227.063125 223.197187) rotate(-90) scale(0.14 -0.14)\">\n     <defs>\n      <path id=\"DejaVuSans-53\" d=\"M 3425 4513 \nL 3425 3897 \nQ 3066 4069 2747 4153 \nQ 2428 4238 2131 4238 \nQ 1616 4238 1336 4038 \nQ 1056 3838 1056 3469 \nQ 1056 3159 1242 3001 \nQ 1428 2844 1947 2747 \nL 2328 2669 \nQ 3034 2534 3370 2195 \nQ 3706 1856 3706 1288 \nQ 3706 609 3251 259 \nQ 2797 -91 1919 -91 \nQ 1588 -91 1214 -16 \nQ 841 59 441 206 \nL 441 856 \nQ 825 641 1194 531 \nQ 1563 422 1919 422 \nQ 2459 422 2753 634 \nQ 3047 847 3047 1241 \nQ 3047 1584 2836 1778 \nQ 2625 1972 2144 2069 \nL 1759 2144 \nQ 1053 2284 737 2584 \nQ 422 2884 422 3419 \nQ 422 4038 858 4394 \nQ 1294 4750 2059 4750 \nQ 2388 4750 2728 4690 \nQ 3069 4631 3425 4513 \nz\n\" transform=\"scale(0.015625)\"/>\n      <path id=\"DejaVuSans-70\" d=\"M 1159 525 \nL 1159 -1331 \nL 581 -1331 \nL 581 3500 \nL 1159 3500 \nL 1159 2969 \nQ 1341 3281 1617 3432 \nQ 1894 3584 2278 3584 \nQ 2916 3584 3314 3078 \nQ 3713 2572 3713 1747 \nQ 3713 922 3314 415 \nQ 2916 -91 2278 -91 \nQ 1894 -91 1617 61 \nQ 1341 213 1159 525 \nz\nM 3116 1747 \nQ 3116 2381 2855 2742 \nQ 2594 3103 2138 3103 \nQ 1681 3103 1420 2742 \nQ 1159 2381 1159 1747 \nQ 1159 1113 1420 752 \nQ 1681 391 2138 391 \nQ 2594 391 2855 752 \nQ 3116 1113 3116 1747 \nz\n\" transform=\"scale(0.015625)\"/>\n      <path id=\"DejaVuSans-6c\" d=\"M 603 4863 \nL 1178 4863 \nL 1178 0 \nL 603 0 \nL 603 4863 \nz\n\" transform=\"scale(0.015625)\"/>\n      <path id=\"DejaVuSans-66\" d=\"M 2375 4863 \nL 2375 4384 \nL 1825 4384 \nQ 1516 4384 1395 4259 \nQ 1275 4134 1275 3809 \nL 1275 3500 \nL 2222 3500 \nL 2222 3053 \nL 1275 3053 \nL 1275 0 \nL 697 0 \nL 697 3053 \nL 147 3053 \nL 147 3500 \nL 697 3500 \nL 697 3744 \nQ 697 4328 969 4595 \nQ 1241 4863 1831 4863 \nL 2375 4863 \nz\n\" transform=\"scale(0.015625)\"/>\n      <path id=\"DejaVuSans-54\" d=\"M -19 4666 \nL 3928 4666 \nL 3928 4134 \nL 2272 4134 \nL 2272 0 \nL 1638 0 \nL 1638 4134 \nL -19 4134 \nL -19 4666 \nz\n\" transform=\"scale(0.015625)\"/>\n      <path id=\"DejaVuSans-77\" d=\"M 269 3500 \nL 844 3500 \nL 1563 769 \nL 2278 3500 \nL 2956 3500 \nL 3675 769 \nL 4391 3500 \nL 4966 3500 \nL 4050 0 \nL 3372 0 \nL 2619 2869 \nL 1863 0 \nL 1184 0 \nL 269 3500 \nz\n\" transform=\"scale(0.015625)\"/>\n      <path id=\"DejaVuSans-6f\" d=\"M 1959 3097 \nQ 1497 3097 1228 2736 \nQ 959 2375 959 1747 \nQ 959 1119 1226 758 \nQ 1494 397 1959 397 \nQ 2419 397 2687 759 \nQ 2956 1122 2956 1747 \nQ 2956 2369 2687 2733 \nQ 2419 3097 1959 3097 \nz\nM 1959 3584 \nQ 2709 3584 3137 3096 \nQ 3566 2609 3566 1747 \nQ 3566 888 3137 398 \nQ 2709 -91 1959 -91 \nQ 1206 -91 779 398 \nQ 353 888 353 1747 \nQ 353 2609 779 3096 \nQ 1206 3584 1959 3584 \nz\n\" transform=\"scale(0.015625)\"/>\n      <path id=\"DejaVuSans-44\" d=\"M 1259 4147 \nL 1259 519 \nL 2022 519 \nQ 2988 519 3436 956 \nQ 3884 1394 3884 2338 \nQ 3884 3275 3436 3711 \nQ 2988 4147 2022 4147 \nL 1259 4147 \nz\nM 628 4666 \nL 1925 4666 \nQ 3281 4666 3915 4102 \nQ 4550 3538 4550 2338 \nQ 4550 1131 3912 565 \nQ 3275 0 1925 0 \nL 628 0 \nL 628 4666 \nz\n\" transform=\"scale(0.015625)\"/>\n      <path id=\"DejaVuSans-73\" d=\"M 2834 3397 \nL 2834 2853 \nQ 2591 2978 2328 3040 \nQ 2066 3103 1784 3103 \nQ 1356 3103 1142 2972 \nQ 928 2841 928 2578 \nQ 928 2378 1081 2264 \nQ 1234 2150 1697 2047 \nL 1894 2003 \nQ 2506 1872 2764 1633 \nQ 3022 1394 3022 966 \nQ 3022 478 2636 193 \nQ 2250 -91 1575 -91 \nQ 1294 -91 989 -36 \nQ 684 19 347 128 \nL 347 722 \nQ 666 556 975 473 \nQ 1284 391 1588 391 \nQ 1994 391 2212 530 \nQ 2431 669 2431 922 \nQ 2431 1156 2273 1281 \nQ 2116 1406 1581 1522 \nL 1381 1569 \nQ 847 1681 609 1914 \nQ 372 2147 372 2553 \nQ 372 3047 722 3315 \nQ 1072 3584 1716 3584 \nQ 2034 3584 2315 3537 \nQ 2597 3491 2834 3397 \nz\n\" transform=\"scale(0.015625)\"/>\n     </defs>\n     <use xlink:href=\"#DejaVuSans-53\"/>\n     <use xlink:href=\"#DejaVuSans-69\" x=\"63.476562\"/>\n     <use xlink:href=\"#DejaVuSans-6d\" x=\"91.259766\"/>\n     <use xlink:href=\"#DejaVuSans-70\" x=\"188.671875\"/>\n     <use xlink:href=\"#DejaVuSans-6c\" x=\"252.148438\"/>\n     <use xlink:href=\"#DejaVuSans-69\" x=\"279.931641\"/>\n     <use xlink:href=\"#DejaVuSans-66\" x=\"307.714844\"/>\n     <use xlink:href=\"#DejaVuSans-69\" x=\"342.919922\"/>\n     <use xlink:href=\"#DejaVuSans-65\" x=\"370.703125\"/>\n     <use xlink:href=\"#DejaVuSans-64\" x=\"432.226562\"/>\n     <use xlink:href=\"#DejaVuSans-54\" x=\"495.703125\"/>\n     <use xlink:href=\"#DejaVuSans-77\" x=\"540.287109\"/>\n     <use xlink:href=\"#DejaVuSans-6f\" x=\"622.074219\"/>\n     <use xlink:href=\"#DejaVuSans-44\" x=\"683.255859\"/>\n     <use xlink:href=\"#DejaVuSans-65\" x=\"760.257812\"/>\n     <use xlink:href=\"#DejaVuSans-73\" x=\"821.78125\"/>\n     <use xlink:href=\"#DejaVuSans-69\" x=\"873.880859\"/>\n     <use xlink:href=\"#DejaVuSans-67\" x=\"901.664062\"/>\n     <use xlink:href=\"#DejaVuSans-6e\" x=\"965.140625\"/>\n    </g>\n   </g>\n   <g id=\"text_6\">\n    <!-- IQPEmbedding -->\n    <g transform=\"translate(299.063125 202.701406) rotate(-90) scale(0.14 -0.14)\">\n     <use xlink:href=\"#DejaVuSans-49\"/>\n     <use xlink:href=\"#DejaVuSans-51\" x=\"29.492188\"/>\n     <use xlink:href=\"#DejaVuSans-50\" x=\"108.203125\"/>\n     <use xlink:href=\"#DejaVuSans-45\" x=\"168.505859\"/>\n     <use xlink:href=\"#DejaVuSans-6d\" x=\"231.689453\"/>\n     <use xlink:href=\"#DejaVuSans-62\" x=\"329.101562\"/>\n     <use xlink:href=\"#DejaVuSans-65\" x=\"392.578125\"/>\n     <use xlink:href=\"#DejaVuSans-64\" x=\"454.101562\"/>\n     <use xlink:href=\"#DejaVuSans-64\" x=\"517.578125\"/>\n     <use xlink:href=\"#DejaVuSans-69\" x=\"581.054688\"/>\n     <use xlink:href=\"#DejaVuSans-6e\" x=\"608.837891\"/>\n     <use xlink:href=\"#DejaVuSans-67\" x=\"672.216797\"/>\n    </g>\n   </g>\n   <g id=\"text_7\">\n    <!-- SimplifiedTwoDesign -->\n    <g transform=\"translate(371.063125 223.197187) rotate(-90) scale(0.14 -0.14)\">\n     <use xlink:href=\"#DejaVuSans-53\"/>\n     <use xlink:href=\"#DejaVuSans-69\" x=\"63.476562\"/>\n     <use xlink:href=\"#DejaVuSans-6d\" x=\"91.259766\"/>\n     <use xlink:href=\"#DejaVuSans-70\" x=\"188.671875\"/>\n     <use xlink:href=\"#DejaVuSans-6c\" x=\"252.148438\"/>\n     <use xlink:href=\"#DejaVuSans-69\" x=\"279.931641\"/>\n     <use xlink:href=\"#DejaVuSans-66\" x=\"307.714844\"/>\n     <use xlink:href=\"#DejaVuSans-69\" x=\"342.919922\"/>\n     <use xlink:href=\"#DejaVuSans-65\" x=\"370.703125\"/>\n     <use xlink:href=\"#DejaVuSans-64\" x=\"432.226562\"/>\n     <use xlink:href=\"#DejaVuSans-54\" x=\"495.703125\"/>\n     <use xlink:href=\"#DejaVuSans-77\" x=\"540.287109\"/>\n     <use xlink:href=\"#DejaVuSans-6f\" x=\"622.074219\"/>\n     <use xlink:href=\"#DejaVuSans-44\" x=\"683.255859\"/>\n     <use xlink:href=\"#DejaVuSans-65\" x=\"760.257812\"/>\n     <use xlink:href=\"#DejaVuSans-73\" x=\"821.78125\"/>\n     <use xlink:href=\"#DejaVuSans-69\" x=\"873.880859\"/>\n     <use xlink:href=\"#DejaVuSans-67\" x=\"901.664062\"/>\n     <use xlink:href=\"#DejaVuSans-6e\" x=\"965.140625\"/>\n    </g>\n   </g>\n  </g>\n </g>\n <defs>\n  <clipPath id=\"p841134046f\">\n   <rect x=\"7.2\" y=\"7.2\" width=\"504\" height=\"288\"/>\n  </clipPath>\n </defs>\n</svg>\n",
      "text/plain": [
       "<Figure size 700x400 with 1 Axes>"
      ]
     },
     "metadata": {},
     "output_type": "display_data"
    }
   ],
   "source": [
    "# example\n",
    "num_qubits  = 3\n",
    "num_reps    = 2\n",
    "num_layers  = 2\n",
    "omega       = 1.\n",
    "x           = torch.randn(num_qubits, requires_grad=False)\n",
    "init_theta  = torch.randn(num_reps, num_qubits, requires_grad=True)\n",
    "theta       = torch.randn(num_reps, num_layers, num_qubits-1, 2, requires_grad=True)\n",
    "W           = torch.randn(2**num_qubits, requires_grad=True)\n",
    "\n",
    "print(qml.draw_mpl(qnn_model)(x, init_theta, theta, W, omega))"
   ]
  },
  {
   "attachments": {},
   "cell_type": "markdown",
   "metadata": {},
   "source": [
    "# Datasets for Capacity Estimation"
   ]
  },
  {
   "cell_type": "code",
   "execution_count": 214,
   "metadata": {},
   "outputs": [],
   "source": [
    "N       = 2\n",
    "samples = 10\n",
    "seed    = 0\n",
    "sizex   = num_qubits\n",
    "scale   = 2.\n",
    "shift   = -1.\n",
    "\n",
    "torch.manual_seed(seed)\n",
    "x       = scale*torch.rand(N, sizex, requires_grad=False) + shift\n",
    "y       = scale*torch.rand(samples, N, requires_grad=False) + shift"
   ]
  },
  {
   "attachments": {},
   "cell_type": "markdown",
   "metadata": {},
   "source": [
    "# Training"
   ]
  },
  {
   "cell_type": "code",
   "execution_count": 215,
   "metadata": {},
   "outputs": [],
   "source": [
    "# model specs\n",
    "num_qubits  = 3\n",
    "num_reps    = 2\n",
    "num_layers  = 2\n",
    "omega       = 1."
   ]
  },
  {
   "cell_type": "code",
   "execution_count": 216,
   "metadata": {},
   "outputs": [],
   "source": [
    "# loss function\n",
    "def square_loss(targets, predictions):\n",
    "    loss = 0\n",
    "    for t, p in zip(targets, predictions):\n",
    "        loss += (t - p) ** 2\n",
    "    loss = loss / len(targets)\n",
    "    return 0.5*loss"
   ]
  },
  {
   "cell_type": "code",
   "execution_count": 217,
   "metadata": {},
   "outputs": [],
   "source": [
    "# total cost for this model and data sample\n",
    "s = 0\n",
    "def cost(init_theta, theta, W):\n",
    "    pred = [qnn_model(x[k], init_theta, theta, W) for k in range(N)]\n",
    "    loss = square_loss(y[s], pred)\n",
    "    return loss"
   ]
  },
  {
   "cell_type": "code",
   "execution_count": 218,
   "metadata": {},
   "outputs": [],
   "source": [
    "# initial parameters\n",
    "seed = 0\n",
    "torch.manual_seed(seed)\n",
    "init_theta  = torch.randn(num_reps, num_qubits, requires_grad=True)\n",
    "theta       = torch.randn(num_reps, num_layers, num_qubits-1, 2, requires_grad=True)\n",
    "W           = torch.randn(2**num_qubits, requires_grad=True)"
   ]
  },
  {
   "cell_type": "code",
   "execution_count": 219,
   "metadata": {},
   "outputs": [
    {
     "name": "stdout",
     "output_type": "stream",
     "text": [
      "10: 0.001957429948487292\n",
      "20: 0.014326998052355306\n",
      "30: 0.0067581865792884855\n",
      "40: 0.002001678550491869\n",
      "50: 0.00017160572221130603\n",
      "60: 4.932047629286499e-05\n",
      "70: 0.00011458465207127944\n",
      "80: 1.5955636312725904e-05\n",
      "90: 4.869795250914098e-06\n",
      "100: 4.691201781115825e-06\n"
     ]
    }
   ],
   "source": [
    "# optimize\n",
    "steps = 100\n",
    "opt   = torch.optim.Adam([init_theta, theta, W], lr=0.1)\n",
    "\n",
    "for n in range(steps):\n",
    "    opt.zero_grad()\n",
    "    loss = cost(init_theta, theta, W)\n",
    "    loss.backward()\n",
    "    opt.step()\n",
    "\n",
    "    if n%10 == 9 or n == steps - 1:\n",
    "        print(f'{n+1}: {loss}')"
   ]
  },
  {
   "attachments": {},
   "cell_type": "markdown",
   "metadata": {},
   "source": [
    "# Summary"
   ]
  },
  {
   "cell_type": "code",
   "execution_count": 220,
   "metadata": {},
   "outputs": [
    {
     "name": "stdout",
     "output_type": "stream",
     "text": [
      "0.07519176977829169\n"
     ]
    }
   ],
   "source": [
    "y_pred = torch.tensor([qnn_model(x[k], init_theta, theta, W) for k in range(N)], requires_grad=False)\n",
    "mre    = torch.mean(torch.abs((y[s]-y_pred)/y_pred))\n",
    "print(mre.item())"
   ]
  },
  {
   "cell_type": "code",
   "execution_count": 193,
   "metadata": {},
   "outputs": [
    {
     "name": "stdout",
     "output_type": "stream",
     "text": [
      "19.931568569324174\n"
     ]
    }
   ],
   "source": [
    "# cutoff precision converted to bits of precision\n",
    "cutoff = 1e-06\n",
    "m      = np.log2(1./cutoff)\n",
    "print(m)"
   ]
  },
  {
   "cell_type": "code",
   "execution_count": 190,
   "metadata": {},
   "outputs": [
    {
     "name": "stdout",
     "output_type": "stream",
     "text": [
      "tensor([[-0.0075,  0.5364, -0.8230],\n",
      "        [-0.7359, -0.3852,  0.2682]])\n",
      "tensor([[ 1.7521, -0.4783, -2.4607],\n",
      "        [ 0.5684, -1.0845, -1.3986]], requires_grad=True)\n",
      "tensor([[[[ 0.4618,  0.8843],\n",
      "          [-0.1434,  0.2924]],\n",
      "\n",
      "         [[-1.7403, -1.3550],\n",
      "          [ 1.0728,  0.8781]]],\n",
      "\n",
      "\n",
      "        [[[-0.1932, -0.3090],\n",
      "          [ 0.5026, -0.8594]],\n",
      "\n",
      "         [[ 0.7502, -0.5855],\n",
      "          [-0.1734,  0.1835]]]], requires_grad=True)\n",
      "tensor([-0.4655, -0.1970,  0.5429,  0.1071,  0.3934, -1.5256,  0.7002,  1.0703],\n",
      "       requires_grad=True)\n",
      "tensor([-0.0198,  0.7929])\n",
      "tensor([-0.0198,  0.7929], dtype=torch.float64)\n"
     ]
    }
   ],
   "source": [
    "print(x)\n",
    "print(init_theta)\n",
    "print(theta)\n",
    "print(W)\n",
    "print(y[s])\n",
    "print(y_pred)"
   ]
  }
 ],
 "metadata": {
  "kernelspec": {
   "display_name": "QML-MOR",
   "language": "python",
   "name": "python3"
  },
  "language_info": {
   "codemirror_mode": {
    "name": "ipython",
    "version": 3
   },
   "file_extension": ".py",
   "mimetype": "text/x-python",
   "name": "python",
   "nbconvert_exporter": "python",
   "pygments_lexer": "ipython3",
   "version": "3.10.8"
  },
  "orig_nbformat": 4,
  "vscode": {
   "interpreter": {
    "hash": "46e7eb4246c13550057ff7606884a772512028b1851bd0c4d2a0ba2e0c036465"
   }
  }
 },
 "nbformat": 4,
 "nbformat_minor": 2
}
