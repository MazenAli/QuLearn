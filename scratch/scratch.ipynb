{
 "cells": [
  {
   "attachments": {},
   "cell_type": "markdown",
   "metadata": {},
   "source": [
    "# Imports"
   ]
  },
  {
   "cell_type": "code",
   "execution_count": null,
   "metadata": {},
   "outputs": [],
   "source": [
    "import pennylane as qml\n",
    "import torch\n",
    "from qulearn.qlayer import AltRotCXLayer, HamiltonianLayer\n",
    "\n",
    "num_qubits = 3\n",
    "n_layers = 2\n",
    "wires = range(0, num_qubits)\n",
    "dev = qml.device(\"default.qubit\", wires=wires, shots=None)\n",
    "layer = AltRotCXLayer(wires, n_layers=n_layers, dtype=torch.float64)\n",
    "obs = [qml.PauliZ(0)]\n",
    "model = HamiltonianLayer(layer, observables=obs, qdevice=dev, dtype=torch.float64, interface=\"torch\", diff_method=\"backprop\")\n",
    "loss_fn = torch.nn.MSELoss()\n",
    "y = torch.tensor([-0.25], dtype=torch.float64)\n",
    "drawer = qml.draw(model.qnode, show_all_wires=True, expansion_strategy=\"device\")\n",
    "print(drawer())"
   ]
  },
  {
   "cell_type": "code",
   "execution_count": null,
   "metadata": {},
   "outputs": [],
   "source": [
    "from torch.optim import Adam\n",
    "opt = Adam(model.parameters(), lr=0.1)\n",
    "opt.zero_grad()\n",
    "pred = model()\n",
    "loss = loss_fn(pred, y)\n",
    "loss.backward()\n",
    "opt.step()"
   ]
  },
  {
   "cell_type": "code",
   "execution_count": null,
   "metadata": {},
   "outputs": [],
   "source": [
    "drawer = qml.draw(model.qnode, show_all_wires=True, expansion_strategy=\"device\")\n",
    "print(drawer())"
   ]
  },
  {
   "cell_type": "code",
   "execution_count": 89,
   "metadata": {},
   "outputs": [
    {
     "name": "stdout",
     "output_type": "stream",
     "text": [
      "tensor([0.8000])\n",
      "([1, 1, 1], tensor([0.2000]))\n",
      "tensor([0.8000])\n",
      "larger than 0\n"
     ]
    }
   ],
   "source": [
    "def scalar2vector(x, L):\n",
    "    # Check if input is within the expected range\n",
    "    if not -1 <= x < 1:\n",
    "        raise ValueError(\"x must be in the range [-1, 1)\")\n",
    "    if L <= 0:\n",
    "        raise ValueError(\"L must be a positive integer\")\n",
    "    \n",
    "    # Initialize binary and remainder variables\n",
    "    binary = [0] * L\n",
    "    reference = 0.0\n",
    "\n",
    "    # Create binary variables\n",
    "    for i in range(L):\n",
    "        if x >= reference:\n",
    "            binary[i] = 1\n",
    "            if i < L-1:\n",
    "                reference += 0.5**(i+1)\n",
    "        else:\n",
    "            if i < L-1:\n",
    "                reference -= 0.5**(i+1)\n",
    "\n",
    "    # Adjust remainder\n",
    "    remainder = x - reference\n",
    "    remainder *= 2 ** (L - 1)\n",
    "\n",
    "    return (binary, remainder)\n",
    "\n",
    "def vector2scalar(binary, remainder):\n",
    "    L = len(binary)\n",
    "    sum = -1.0\n",
    "    for j, ij in enumerate(binary):\n",
    "        sum += 2.0**(-j)*ij\n",
    "        \n",
    "    sum += remainder*2.0**(1-L)\n",
    "    \n",
    "    return sum\n",
    "\n",
    "x = torch.tensor([0.8])\n",
    "L = 3\n",
    "vec = scalar2vector(x, L)\n",
    "orig = vector2scalar(*vec)\n",
    "print(x)\n",
    "print(vec)\n",
    "print(orig)\n",
    "\n",
    "if x < 0:\n",
    "    print(\"less than 0\")\n",
    "if x > 0:\n",
    "    print(\"larger than 0\")"
   ]
  },
  {
   "cell_type": "code",
   "execution_count": 90,
   "metadata": {},
   "outputs": [],
   "source": [
    "from qulearn.qlayer import CircuitLayer\n",
    "import pennylane as qml\n",
    "\n",
    "class QTT1DEncoding(CircuitLayer):\n",
    "    \n",
    "    def __init__(self, wires, level):\n",
    "        super().__init__(wires)\n",
    "        self.level = level\n",
    "        \n",
    "    def circuit(self, x):\n",
    "        binary, y = scalar2vector(x, self.level)\n",
    "        \n",
    "        for index, b in enumerate(binary):\n",
    "            if b == 1:\n",
    "                qml.PauliX(self.wires[index])\n",
    "                \n",
    "        qml.RZ(0.0, self.wires[-1])"
   ]
  },
  {
   "cell_type": "code",
   "execution_count": 77,
   "metadata": {},
   "outputs": [],
   "source": [
    "from qulearn.qlayer import CircuitLayer, AltRotCXLayer\n",
    "import pennylane as qml\n",
    "from pennylane import IQPEmbedding\n",
    "import torch\n",
    "from torch import nn\n",
    "\n",
    "class Hadamards(CircuitLayer):\n",
    "    \n",
    "    def __init__(self, wires):\n",
    "        super().__init__(wires)\n",
    "        \n",
    "    def circuit(self, x):\n",
    "        for wire in self.wires:\n",
    "            qml.Hadamard(wire)\n",
    "\n",
    "class Exp1DEncoding(CircuitLayer):\n",
    "    \n",
    "    def __init__(self, wires):\n",
    "        super().__init__(wires)\n",
    "        \n",
    "    def circuit(self, x):\n",
    "        lrelu = torch.nn.LeakyReLU(0.01)\n",
    "        for j, wire in enumerate(self.wires):\n",
    "            x_ = torch.asin(lrelu(x))\n",
    "            x_ = lrelu(x)\n",
    "            x_ = 2**j*x\n",
    "            qml.RZ(x_.item(), wire)\n",
    "            \n",
    "class ParallelIQPEncoding(CircuitLayer):\n",
    "    \n",
    "    def __init__(self, wires, num_features, omega = 1.0):\n",
    "        super().__init__(wires)\n",
    "        self.num_features = num_features\n",
    "        self.omega = omega\n",
    "        \n",
    "        assert self.num_wires >= self.num_features\n",
    "        assert self.num_wires % self.num_features == 0\n",
    "        \n",
    "    def circuit(self, x):\n",
    "        num_features = x.shape[-1]\n",
    "        assert num_features == self.num_features\n",
    "        \n",
    "        freq = 0\n",
    "        for i in range(0, len(self.wires), num_features):\n",
    "            x_ = 2**(freq*self.omega)*x\n",
    "            qml.IQPEmbedding(x_, wires=self.wires[i: i+num_features])\n",
    "            freq += 1\n",
    "            \n",
    "class ParallelEntangledIQPEncoding(CircuitLayer):\n",
    "    \n",
    "    def __init__(self, wires, num_features, omega = 1.0):\n",
    "        super().__init__(wires)\n",
    "        self.num_features = num_features\n",
    "        self.omega = omega\n",
    "        \n",
    "        assert self.num_wires >= self.num_features\n",
    "        assert self.num_wires % self.num_features == 0\n",
    "        \n",
    "    def circuit(self, x):\n",
    "        num_features = x.shape[-1]\n",
    "        assert num_features == self.num_features\n",
    "        \n",
    "        num_repeats = int(self.num_wires/num_features)\n",
    "        \n",
    "        x_large = []\n",
    "        for j in range(0, num_repeats):\n",
    "            x_ = 2**(j*self.omega)*x\n",
    "            x_large.append(x_)\n",
    "            \n",
    "        x_final = torch.cat(x_large)\n",
    "        qml.IQPEmbedding(x_final, wires=self.wires)\n",
    "        \n",
    "\n",
    "class QuantumKernel(nn.Module):\n",
    "    \n",
    "    def __init__(self, embed, X_train):\n",
    "        super().__init__()\n",
    "        self.embed = embed\n",
    "        self.X_train = X_train\n",
    "        self.num_samples = X_train.shape[0]\n",
    "        self.alpha = nn.Parameter(\n",
    "            torch.empty(\n",
    "                self.num_samples,\n",
    "                device=self.X_train.device,\n",
    "                dtype=self.X_train.dtype,\n",
    "            )\n",
    "        )\n",
    "        nn.init.normal_(self.alpha)\n",
    "        \n",
    "        self.qdevice = qml.device(wires=self.embed.wires, name=\"default.qubit\", shots=None)\n",
    "        self.qnode = self.set_qnode()\n",
    "        \n",
    "    \n",
    "    def kernel_circ(self, x, x_):\n",
    "        self.embed(x)\n",
    "        qml.adjoint(self.embed)(x_)\n",
    "        state = torch.zeros(self.embed.num_wires, dtype=torch.int32, device=x.device)\n",
    "        projector = qml.Projector(state, self.embed.wires)\n",
    "        return qml.expval(projector)\n",
    "    \n",
    "    def kernel_matrix(self, x, x_):\n",
    "        # assert shape has length 2\n",
    "        \n",
    "        K = torch.empty((x.shape[0], x_.shape[0]), dtype=x.dtype, device=x.device)\n",
    "        for i, xi in enumerate(x):\n",
    "            for j, xj in enumerate(x_):\n",
    "                Kij = self.qnode(xi, xj)\n",
    "                K[i, j] = Kij\n",
    "        return K\n",
    "    \n",
    "    def kernel_ridge_regression(self, labels, lambda_reg) -> None:\n",
    "        # sets optimal alpha (closed form solution)\n",
    "        K = self.kernel_matrix(self.X_train, self.X_train)\n",
    "        I = torch.eye(self.num_samples, dtype=labels.dtype, device=labels.device)\n",
    "        M = K+lambda_reg*I\n",
    "        self.alpha = nn.Parameter(torch.linalg.solve(M, labels))\n",
    "    \n",
    "    def forward(self, x):\n",
    "        K = self.kernel_matrix(x, self.X_train)\n",
    "        out = torch.matmul(K, self.alpha)\n",
    "        return out\n",
    "    \n",
    "    def set_qnode(self):\n",
    "        circuit = self.kernel_circ\n",
    "        qnode = qml.QNode(\n",
    "            circuit,\n",
    "            self.qdevice,\n",
    "            interface=\"torch\",\n",
    "            diff_method=\"backprop\"\n",
    "        )\n",
    "        self.qnode = qnode\n",
    "        return self.qnode"
   ]
  },
  {
   "cell_type": "code",
   "execution_count": 1,
   "metadata": {},
   "outputs": [
    {
     "name": "stdout",
     "output_type": "stream",
     "text": [
      "one\n"
     ]
    }
   ],
   "source": [
    "from enum import Enum\n",
    "class Test(Enum):\n",
    "    one = 1\n",
    "    two = 2\n",
    "    \n",
    "print(Test.one.name)"
   ]
  },
  {
   "cell_type": "code",
   "execution_count": 27,
   "metadata": {},
   "outputs": [
    {
     "name": "stdout",
     "output_type": "stream",
     "text": [
      "tensor([[0.1000, 0.2000, 0.3000]])\n",
      "torch.Size([1, 3])\n"
     ]
    }
   ],
   "source": [
    "x1 = torch.tensor([[0.1]])\n",
    "x2 = torch.tensor([[0.2]])\n",
    "x3 = torch.tensor([[0.3]])\n",
    "x = torch.cat((x1, x2, x3), dim=1)\n",
    "print(x)\n",
    "print(x.shape)"
   ]
  },
  {
   "cell_type": "code",
   "execution_count": 3,
   "metadata": {},
   "outputs": [
    {
     "name": "stdout",
     "output_type": "stream",
     "text": [
      "0: ──H──RZ(0.10)─╭MultiRZ(0.03)─╭MultiRZ(0.02)─╭MultiRZ(0.06)──H──────────────RZ(0.10)─────\n",
      "1: ──H──RZ(0.30)─╰MultiRZ(0.03)─│──────────────│──────────────╭MultiRZ(0.06)─╭MultiRZ(0.18)\n",
      "2: ──H──RZ(0.20)────────────────╰MultiRZ(0.02)─│──────────────╰MultiRZ(0.06)─│─────────────\n",
      "3: ──H──RZ(0.60)───────────────────────────────╰MultiRZ(0.06)────────────────╰MultiRZ(0.18)\n",
      "\n",
      "───RZ(0.20)†──────H†────────────────────────────────────────────────────────────────────────────────\n",
      "───H──────────────RZ(0.30)──RZ(0.30)†──H†────────────────────────────╭MultiRZ(0.18)†─╭MultiRZ(0.12)†\n",
      "──╭MultiRZ(0.12)──H─────────RZ(0.20)───RZ(0.40)†──H†─╭MultiRZ(0.24)†─│───────────────╰MultiRZ(0.12)†\n",
      "──╰MultiRZ(0.12)──H─────────RZ(0.60)───RZ(0.60)†──H†─╰MultiRZ(0.24)†─╰MultiRZ(0.18)†────────────────\n",
      "\n",
      "──╭MultiRZ(0.12)†─╭MultiRZ(0.08)†─╭MultiRZ(0.06)†──RZ(0.20)†──H†─┤ ╭<|0000⟩⟨0000|>\n",
      "──│───────────────│───────────────╰MultiRZ(0.06)†──RZ(0.30)†──H†─┤ ├<|0000⟩⟨0000|>\n",
      "──│───────────────╰MultiRZ(0.08)†──RZ(0.40)†───────H†────────────┤ ├<|0000⟩⟨0000|>\n",
      "──╰MultiRZ(0.12)†──RZ(0.60)†───────H†────────────────────────────┤ ╰<|0000⟩⟨0000|>\n"
     ]
    }
   ],
   "source": [
    "import pennylane as qml\n",
    "from qulearn.qlayer import ParallelEntangledIQPEncoding, ParallelIQPEncoding, MeasurementLayer, MeasurementType, IQPERYCZLayer, RYCZLayer\n",
    "from qulearn.qkernel import QKernel\n",
    "from qulearn.trainer import RidgeRegression\n",
    "import torch\n",
    "from torch.nn import MSELoss\n",
    "import logging\n",
    "from torch.utils.data import DataLoader, TensorDataset\n",
    "\n",
    "num_features = 2\n",
    "num_feature_repeat = 2\n",
    "wires = num_features*num_feature_repeat\n",
    "embed = ParallelEntangledIQPEncoding(wires, num_features=num_features, omega=1.0, n_repeat=2)\n",
    "var = RYCZLayer(wires=wires, n_layers=1)\n",
    "#embed = IQPERYCZLayer(wires=wires, num_uploads=1, num_varlayers=0, num_repeat=2, omega=1.0)\n",
    "#embed = ParallelIQPEncoding(wires, num_features=1, omega=1.0, n_repeat=2)\n",
    "obs = qml.PauliZ(0)\n",
    "num_samples = 10\n",
    "X_train = torch.randn((num_samples, num_features))\n",
    "labels = torch.randn((num_samples, 1))\n",
    "model = QKernel(embed, X_train)\n",
    "#model = MeasurementLayer(var, embed, measurement_type=MeasurementType.Expectation, observable=obs)\n",
    "drawer = qml.draw(model.qnode, show_all_wires=True, expansion_strategy=\"device\")\n",
    "x1 = torch.tensor([0.1, 0.3])\n",
    "x2 = torch.tensor([0.2, 0.3])\n",
    "print(drawer(x1, x2))\n",
    "\n",
    "# #test = model.qnode(x1, x2)\n",
    "# test = model.kernel_matrix(X_train, X_train)\n",
    "# print(test.shape)\n",
    "# print(test)\n",
    "\n",
    "# predicted = model(X_train)\n",
    "# fn = MSELoss()\n",
    "# loss_before = fn(predicted, labels)\n",
    "\n",
    "# lambda_reg = 1.0\n",
    "# metrics = {\"mse_loss\": fn}\n",
    "# logger = logging.getLogger(__name__)\n",
    "# logger.setLevel(level=logging.INFO)\n",
    "# trainer = RidgeRegression(lambda_reg, metrics, logger)\n",
    "# dataset = TensorDataset(X_train, labels)\n",
    "# train_loader = DataLoader(dataset, batch_size=num_samples)\n",
    "# valid_loader = DataLoader(dataset, batch_size=num_samples)\n",
    "# trainer.train(model, train_loader, valid_loader)\n",
    "\n",
    "# predicted = model(X_train)\n",
    "# loss_after = fn(predicted, labels)\n",
    "\n",
    "# print(f\"Loss before: {loss_before} | Loss after: {loss_after}\")"
   ]
  },
  {
   "cell_type": "code",
   "execution_count": 6,
   "metadata": {},
   "outputs": [
    {
     "name": "stdout",
     "output_type": "stream",
     "text": [
      "Parameter containing:\n",
      "tensor([ 0.1966, -0.6014, -1.9185,  1.5255, -0.2749,  0.9446,  1.4418, -0.5243,\n",
      "         1.4246,  0.6802], requires_grad=True)\n"
     ]
    }
   ],
   "source": [
    "print(model.alpha)"
   ]
  },
  {
   "cell_type": "code",
   "execution_count": 14,
   "metadata": {},
   "outputs": [
    {
     "name": "stdout",
     "output_type": "stream",
     "text": [
      "Parameter containing:\n",
      "tensor([ 0.6956,  1.4973,  0.7855, -0.1049, -0.1006, -1.0421, -2.0959,  1.6524,\n",
      "         0.7331, -0.6246], requires_grad=True)\n"
     ]
    }
   ],
   "source": [
    "X_train = torch.randn((num_samples, num_features))\n",
    "model.X_train = X_train\n",
    "print(model.alpha)"
   ]
  },
  {
   "cell_type": "code",
   "execution_count": null,
   "metadata": {},
   "outputs": [],
   "source": [
    "for p in model.named_parameters():\n",
    "    print(p)"
   ]
  },
  {
   "cell_type": "code",
   "execution_count": 55,
   "metadata": {},
   "outputs": [
    {
     "name": "stdout",
     "output_type": "stream",
     "text": [
      "tensor([[-0.1502]], dtype=torch.float64, grad_fn=<StackBackward0>)\n",
      "0: ──Rot(3.29,1.29,4.89)─╭●──Rot(5.83,4.20,4.55)─────────────────────────╭●──Rot(2.65,1.80,1.61)──H\n",
      "1: ──Rot(4.93,1.90,2.11)─╰X──Rot(3.50,6.04,2.57)─╭●──Rot(1.05,0.74,2.00)─╰X──Rot(3.14,2.05,4.68)─╭●\n",
      "2: ──Rot(4.15,1.39,1.70)─────────────────────────╰X──Rot(5.92,1.35,3.28)─────────────────────────╰X\n",
      "\n",
      "───RZ(-0.74)─────────────────────────╭MultiRZ(1.10)─╭MultiRZ(2.19)──Rot(5.34,5.52,3.31)\n",
      "───Rot(5.69,1.43,4.57)──H──RZ(-1.48)─╰MultiRZ(1.10)─│──────────────╭MultiRZ(4.38)──────\n",
      "───Rot(3.14,2.17,6.22)──H──RZ(-2.96)────────────────╰MultiRZ(2.19)─╰MultiRZ(4.38)──────\n",
      "\n",
      "───────────────────────╭●──Rot(5.09,2.05,1.73)─────────────────────────╭●──Rot(0.26,1.71,4.18)───\n",
      "───Rot(0.73,0.65,3.33)─╰X──Rot(4.81,3.33,3.23)─╭●──Rot(3.59,0.14,4.84)─╰X──Rot(5.11,0.94,5.60)─╭●\n",
      "───Rot(2.34,0.86,3.43)─────────────────────────╰X──Rot(2.27,2.83,0.50)─────────────────────────╰X\n",
      "\n",
      "───────────────────────┤  <𝓗(0.22,-0.18)>\n",
      "───Rot(0.48,2.07,4.84)─┤                 \n",
      "───Rot(4.19,3.60,3.65)─┤                 \n"
     ]
    }
   ],
   "source": [
    "from qulearn.qlayer import HamiltonianLayer, AltRotCXLayer, IQPEmbeddingLayer\n",
    "import torch\n",
    "\n",
    "observables = [qml.PauliZ(0), qml.Identity(0)]#, qml.PauliZ(1), qml.PauliZ(2), qml.PauliZ(3)]\n",
    "wires = 1*3\n",
    "embed = ParallelEntangledIQPEncoding(wires, num_features=1)\n",
    "#embed = ParallelIQPEncoding(wires, num_features=1)\n",
    "varlayer1 = AltRotCXLayer(wires=3, n_layers=2)\n",
    "varlayer2 = AltRotCXLayer(wires=3, n_layers=2)\n",
    "model = HamiltonianLayer(varlayer1, embed, varlayer2, observables=observables)\n",
    "drawer = qml.draw(model.qnode, show_all_wires=True, expansion_strategy=\"device\")\n",
    "\n",
    "x = torch.rand((1, 2))*2.0-1.0\n",
    "x = torch.tensor([[-0.74]])\n",
    "y = model(x)\n",
    "print(y)\n",
    "x_ = x[0]\n",
    "print(drawer(x_))"
   ]
  },
  {
   "cell_type": "code",
   "execution_count": 32,
   "metadata": {},
   "outputs": [
    {
     "name": "stdout",
     "output_type": "stream",
     "text": [
      "tensor([[-0.2440]], dtype=torch.float64, grad_fn=<StackBackward0>)\n",
      "0: ──H──Rot(4.65,6.05,3.35)─╭●──Rot(5.03,2.60,1.64)─────────────────────────╭●──Rot(5.60,5.53,4.53)\n",
      "1: ──H──Rot(1.61,3.54,2.16)─╰X──Rot(4.84,6.06,1.09)─╭●──Rot(4.01,0.02,0.82)─╰X──Rot(0.80,0.59,1.19)\n",
      "2: ──H──Rot(3.93,5.23,0.30)─╭●──Rot(2.81,2.31,1.08)─╰X──Rot(4.96,5.36,5.90)─╭●──Rot(5.54,5.53,3.42)\n",
      "3: ──H──Rot(5.85,0.61,5.95)─╰X──Rot(3.72,4.99,3.14)─────────────────────────╰X──Rot(0.50,1.74,0.20)\n",
      "\n",
      "───RZ(-0.74)──Rot(0.70,0.49,4.14)─────────────────────────────────╭●──Rot(1.12,2.04,3.48)───\n",
      "──╭●──────────Rot(4.18,5.30,2.82)──RZ(-1.48)──Rot(4.77,4.37,3.40)─╰X──Rot(5.90,5.89,3.90)─╭●\n",
      "──╰X──────────Rot(2.60,2.68,3.42)──RZ(-2.96)──Rot(2.56,2.86,1.60)─╭●──Rot(5.20,6.03,5.36)─╰X\n",
      "───RZ(-5.92)──Rot(5.86,2.88,4.09)─────────────────────────────────╰X──Rot(0.18,0.46,4.21)───\n",
      "\n",
      "───────────────────────╭●──Rot(4.87,0.41,2.15)─────────────────────────┤  <𝓗(1.45)>\n",
      "───Rot(2.50,2.40,0.46)─╰X──Rot(5.97,6.17,2.62)─╭●──Rot(3.39,3.62,5.26)─┤           \n",
      "───Rot(0.40,3.84,5.58)─╭●──Rot(2.47,4.61,2.68)─╰X──Rot(4.18,3.25,2.45)─┤           \n",
      "───────────────────────╰X──Rot(5.81,4.52,0.87)─────────────────────────┤           \n"
     ]
    }
   ],
   "source": [
    "from qulearn.qlayer import HamiltonianLayer, AltRotCXLayer, IQPEmbeddingLayer\n",
    "import torch\n",
    "\n",
    "observables = [qml.PauliZ(0)]#, qml.PauliZ(1), qml.PauliZ(2), qml.PauliZ(3)]\n",
    "#embed = QTT1DEncoding(wires=4, level=3)\n",
    "#embed = IQPEmbeddingLayer(wires=1, n_repeat=1)\n",
    "hads = Hadamards(wires=4)\n",
    "embed = Exp1DEncoding(wires=4)\n",
    "varlayer1 = AltRotCXLayer(wires=4, n_layers=2)\n",
    "varlayer2 = AltRotCXLayer(wires=4, n_layers=2)\n",
    "model = HamiltonianLayer(hads, varlayer1, embed, varlayer2, observables=observables)\n",
    "drawer = qml.draw(model.qnode, show_all_wires=True, expansion_strategy=\"device\")\n",
    "\n",
    "x = torch.rand((1, 1))*2.0-1.0\n",
    "x = torch.tensor([[-0.74]])\n",
    "y = model(x)\n",
    "print(y)\n",
    "print(drawer(x))"
   ]
  },
  {
   "cell_type": "code",
   "execution_count": 133,
   "metadata": {},
   "outputs": [],
   "source": [
    "import numpy as np\n",
    "import torch\n",
    "from torch.utils.data import TensorDataset, DataLoader\n",
    "\n",
    "def fourier_series(x, n, c):\n",
    "    \"\"\"\n",
    "    Compute the truncated Fourier series evaluated at an input x.\n",
    "    \"\"\"\n",
    "    k = torch.arange(-n, n+1)\n",
    "    terms = c[k+n]*torch.exp(1j*k*x)\n",
    "    y = torch.real(torch.sum(terms, dim=1))\n",
    "    y = y/torch.max(torch.abs(y))\n",
    "    return y\n",
    "\n",
    "def generate_dataset(num_samples, n, c):\n",
    "    \"\"\"\n",
    "    Generate a dataset of random samples x with corresponding y values evaluated \n",
    "    at x using a truncated Fourier series.\n",
    "    \"\"\"\n",
    "    x = torch.rand(num_samples, 1, dtype=torch.float64)*2.0-1.0\n",
    "    y = fourier_series(x, n, c)\n",
    "    return x, y\n",
    "\n",
    "def get_data_loader(x, y, batch_size=5):\n",
    "    \"\"\"\n",
    "    Convert the dataset into a PyTorch DataLoader.\n",
    "    \"\"\"\n",
    "    dataset = TensorDataset(x.unsqueeze(-1), y.unsqueeze(-1))\n",
    "    dataloader = DataLoader(dataset, batch_size=batch_size)\n",
    "    return dataloader\n",
    "\n",
    "# Example usage:\n",
    "\n",
    "n = 10  # Number of terms in the Fourier series\n",
    "c_positive = torch.rand(n) + 1j*torch.rand(n)  # Random coefficients for positive k\n",
    "c_negative = torch.conj(c_positive)  # Coefficients for negative k are the conjugate of those for positive k\n",
    "c_positive = c_positive.flip(dims=[0])\n",
    "c_zero = torch.rand(1)  # Coefficient for k=0 is just a real number\n",
    "c = torch.cat((c_negative, c_zero, c_positive))\n",
    "\n",
    "# Generate a dataset and data loader\n",
    "x, y = generate_dataset(25, n, c)\n",
    "y = torch.where(x <= 0, torch.tensor(0, dtype=torch.float64), torch.tensor(1, dtype=torch.float64))\n",
    "dataloader = get_data_loader(x, y)"
   ]
  },
  {
   "cell_type": "code",
   "execution_count": null,
   "metadata": {},
   "outputs": [],
   "source": [
    "import pennylane as qml\n",
    "from qulearn.qlayer import MeasurementLayer, MeasurementType, IQPEAltRotCXLayer, HamiltonianLayer\n",
    "num_features = 3\n",
    "interface='torch'\n",
    "diff_method='backprop'\n",
    "qdev = qml.device(\"default.qubit\", wires=num_features, shots=None)\n",
    "circuit = IQPEAltRotCXLayer(wires=num_features, num_uploads=1, num_varlayers=1, num_repeat=3, omega=torch.tensor(0.0))\n",
    "obs = qml.PauliZ(0)\n",
    "model = HamiltonianLayer(circuit, observables=[obs], qdevice=qdev, interface=interface, diff_method=diff_method)\n",
    "drawer = qml.draw(model.qnode, show_all_wires=True, expansion_strategy=\"device\")\n",
    "x = torch.randn(num_features)\n",
    "print(drawer(x))"
   ]
  },
  {
   "cell_type": "code",
   "execution_count": 134,
   "metadata": {},
   "outputs": [],
   "source": [
    "from torch.optim import Adam\n",
    "from qulearn.trainer import SupervisedTrainer\n",
    "import logging\n",
    "opt = Adam(model.parameters(), lr=0.1, amsgrad=True)\n",
    "loss_fn = torch.nn.MSELoss()\n",
    "logger = logging.getLogger(\"SupTrainer\")\n",
    "logger.setLevel(level=logging.INFO)\n",
    "trainer = SupervisedTrainer(opt, loss_fn, num_epochs=50, logger=logger)"
   ]
  },
  {
   "cell_type": "code",
   "execution_count": 137,
   "metadata": {},
   "outputs": [
    {
     "name": "stderr",
     "output_type": "stream",
     "text": [
      "INFO:SupTrainer:Train - Epoch: 1, Loss: 0.237778, Metrics: \n",
      "INFO:SupTrainer:Validate - Epoch: 1, Loss: 0.237778, Metrics: \n",
      "INFO:SupTrainer:Train - Epoch: 2, Loss: 0.238333, Metrics: \n",
      "INFO:SupTrainer:Validate - Epoch: 2, Loss: 0.238333, Metrics: \n",
      "INFO:SupTrainer:Train - Epoch: 3, Loss: 0.236954, Metrics: \n",
      "INFO:SupTrainer:Validate - Epoch: 3, Loss: 0.236954, Metrics: \n",
      "INFO:SupTrainer:Train - Epoch: 4, Loss: 0.231336, Metrics: \n",
      "INFO:SupTrainer:Validate - Epoch: 4, Loss: 0.231336, Metrics: \n",
      "INFO:SupTrainer:Train - Epoch: 5, Loss: 0.225725, Metrics: \n",
      "INFO:SupTrainer:Validate - Epoch: 5, Loss: 0.225725, Metrics: \n",
      "INFO:SupTrainer:Train - Epoch: 6, Loss: 0.223778, Metrics: \n",
      "INFO:SupTrainer:Validate - Epoch: 6, Loss: 0.223778, Metrics: \n",
      "INFO:SupTrainer:Train - Epoch: 7, Loss: 0.223378, Metrics: \n",
      "INFO:SupTrainer:Validate - Epoch: 7, Loss: 0.223378, Metrics: \n",
      "INFO:SupTrainer:Train - Epoch: 8, Loss: 0.223603, Metrics: \n",
      "INFO:SupTrainer:Validate - Epoch: 8, Loss: 0.223603, Metrics: \n",
      "INFO:SupTrainer:Train - Epoch: 9, Loss: 0.223477, Metrics: \n",
      "INFO:SupTrainer:Validate - Epoch: 9, Loss: 0.223477, Metrics: \n",
      "INFO:SupTrainer:Train - Epoch: 10, Loss: 0.223101, Metrics: \n",
      "INFO:SupTrainer:Validate - Epoch: 10, Loss: 0.223101, Metrics: \n",
      "INFO:SupTrainer:Train - Epoch: 11, Loss: 0.223024, Metrics: \n",
      "INFO:SupTrainer:Validate - Epoch: 11, Loss: 0.223024, Metrics: \n",
      "INFO:SupTrainer:Train - Epoch: 12, Loss: 0.223071, Metrics: \n",
      "INFO:SupTrainer:Validate - Epoch: 12, Loss: 0.223071, Metrics: \n",
      "INFO:SupTrainer:Train - Epoch: 13, Loss: 0.222950, Metrics: \n",
      "INFO:SupTrainer:Validate - Epoch: 13, Loss: 0.222950, Metrics: \n",
      "INFO:SupTrainer:Train - Epoch: 14, Loss: 0.222932, Metrics: \n",
      "INFO:SupTrainer:Validate - Epoch: 14, Loss: 0.222932, Metrics: \n",
      "INFO:SupTrainer:Train - Epoch: 15, Loss: 0.222966, Metrics: \n",
      "INFO:SupTrainer:Validate - Epoch: 15, Loss: 0.222966, Metrics: \n",
      "INFO:SupTrainer:Train - Epoch: 16, Loss: 0.222933, Metrics: \n",
      "INFO:SupTrainer:Validate - Epoch: 16, Loss: 0.222933, Metrics: \n",
      "INFO:SupTrainer:Train - Epoch: 17, Loss: 0.222922, Metrics: \n",
      "INFO:SupTrainer:Validate - Epoch: 17, Loss: 0.222922, Metrics: \n",
      "INFO:SupTrainer:Train - Epoch: 18, Loss: 0.222942, Metrics: \n",
      "INFO:SupTrainer:Validate - Epoch: 18, Loss: 0.222942, Metrics: \n",
      "INFO:SupTrainer:Train - Epoch: 19, Loss: 0.222939, Metrics: \n",
      "INFO:SupTrainer:Validate - Epoch: 19, Loss: 0.222939, Metrics: \n",
      "INFO:SupTrainer:Train - Epoch: 20, Loss: 0.222930, Metrics: \n",
      "INFO:SupTrainer:Validate - Epoch: 20, Loss: 0.222930, Metrics: \n",
      "INFO:SupTrainer:Train - Epoch: 21, Loss: 0.222942, Metrics: \n",
      "INFO:SupTrainer:Validate - Epoch: 21, Loss: 0.222942, Metrics: \n",
      "INFO:SupTrainer:Train - Epoch: 22, Loss: 0.222948, Metrics: \n",
      "INFO:SupTrainer:Validate - Epoch: 22, Loss: 0.222948, Metrics: \n",
      "INFO:SupTrainer:Train - Epoch: 23, Loss: 0.222942, Metrics: \n",
      "INFO:SupTrainer:Validate - Epoch: 23, Loss: 0.222942, Metrics: \n",
      "INFO:SupTrainer:Train - Epoch: 24, Loss: 0.222942, Metrics: \n",
      "INFO:SupTrainer:Validate - Epoch: 24, Loss: 0.222942, Metrics: \n",
      "INFO:SupTrainer:Train - Epoch: 25, Loss: 0.222946, Metrics: \n",
      "INFO:SupTrainer:Validate - Epoch: 25, Loss: 0.222946, Metrics: \n",
      "INFO:SupTrainer:Train - Epoch: 26, Loss: 0.222946, Metrics: \n",
      "INFO:SupTrainer:Validate - Epoch: 26, Loss: 0.222946, Metrics: \n",
      "INFO:SupTrainer:Train - Epoch: 27, Loss: 0.222946, Metrics: \n",
      "INFO:SupTrainer:Validate - Epoch: 27, Loss: 0.222946, Metrics: \n",
      "INFO:SupTrainer:Train - Epoch: 28, Loss: 0.222948, Metrics: \n",
      "INFO:SupTrainer:Validate - Epoch: 28, Loss: 0.222948, Metrics: \n",
      "INFO:SupTrainer:Train - Epoch: 29, Loss: 0.222949, Metrics: \n",
      "INFO:SupTrainer:Validate - Epoch: 29, Loss: 0.222949, Metrics: \n",
      "INFO:SupTrainer:Train - Epoch: 30, Loss: 0.222948, Metrics: \n",
      "INFO:SupTrainer:Validate - Epoch: 30, Loss: 0.222948, Metrics: \n",
      "INFO:SupTrainer:Train - Epoch: 31, Loss: 0.222949, Metrics: \n",
      "INFO:SupTrainer:Validate - Epoch: 31, Loss: 0.222949, Metrics: \n",
      "INFO:SupTrainer:Train - Epoch: 32, Loss: 0.222950, Metrics: \n",
      "INFO:SupTrainer:Validate - Epoch: 32, Loss: 0.222950, Metrics: \n",
      "INFO:SupTrainer:Train - Epoch: 33, Loss: 0.222950, Metrics: \n",
      "INFO:SupTrainer:Validate - Epoch: 33, Loss: 0.222950, Metrics: \n",
      "INFO:SupTrainer:Train - Epoch: 34, Loss: 0.222951, Metrics: \n",
      "INFO:SupTrainer:Validate - Epoch: 34, Loss: 0.222951, Metrics: \n",
      "INFO:SupTrainer:Train - Epoch: 35, Loss: 0.222952, Metrics: \n",
      "INFO:SupTrainer:Validate - Epoch: 35, Loss: 0.222952, Metrics: \n",
      "INFO:SupTrainer:Train - Epoch: 36, Loss: 0.222952, Metrics: \n",
      "INFO:SupTrainer:Validate - Epoch: 36, Loss: 0.222952, Metrics: \n",
      "INFO:SupTrainer:Train - Epoch: 37, Loss: 0.222952, Metrics: \n",
      "INFO:SupTrainer:Validate - Epoch: 37, Loss: 0.222952, Metrics: \n",
      "INFO:SupTrainer:Train - Epoch: 38, Loss: 0.222953, Metrics: \n",
      "INFO:SupTrainer:Validate - Epoch: 38, Loss: 0.222953, Metrics: \n",
      "INFO:SupTrainer:Train - Epoch: 39, Loss: 0.222953, Metrics: \n",
      "INFO:SupTrainer:Validate - Epoch: 39, Loss: 0.222953, Metrics: \n",
      "INFO:SupTrainer:Train - Epoch: 40, Loss: 0.222954, Metrics: \n",
      "INFO:SupTrainer:Validate - Epoch: 40, Loss: 0.222954, Metrics: \n",
      "INFO:SupTrainer:Train - Epoch: 41, Loss: 0.222954, Metrics: \n",
      "INFO:SupTrainer:Validate - Epoch: 41, Loss: 0.222954, Metrics: \n",
      "INFO:SupTrainer:Train - Epoch: 42, Loss: 0.222954, Metrics: \n",
      "INFO:SupTrainer:Validate - Epoch: 42, Loss: 0.222954, Metrics: \n",
      "INFO:SupTrainer:Train - Epoch: 43, Loss: 0.222955, Metrics: \n",
      "INFO:SupTrainer:Validate - Epoch: 43, Loss: 0.222955, Metrics: \n",
      "INFO:SupTrainer:Train - Epoch: 44, Loss: 0.222955, Metrics: \n",
      "INFO:SupTrainer:Validate - Epoch: 44, Loss: 0.222955, Metrics: \n",
      "INFO:SupTrainer:Train - Epoch: 45, Loss: 0.222955, Metrics: \n",
      "INFO:SupTrainer:Validate - Epoch: 45, Loss: 0.222955, Metrics: \n",
      "INFO:SupTrainer:Train - Epoch: 46, Loss: 0.222955, Metrics: \n",
      "INFO:SupTrainer:Validate - Epoch: 46, Loss: 0.222955, Metrics: \n",
      "INFO:SupTrainer:Train - Epoch: 47, Loss: 0.222956, Metrics: \n",
      "INFO:SupTrainer:Validate - Epoch: 47, Loss: 0.222956, Metrics: \n",
      "INFO:SupTrainer:Train - Epoch: 48, Loss: 0.222956, Metrics: \n",
      "INFO:SupTrainer:Validate - Epoch: 48, Loss: 0.222956, Metrics: \n",
      "INFO:SupTrainer:Train - Epoch: 49, Loss: 0.222956, Metrics: \n",
      "INFO:SupTrainer:Validate - Epoch: 49, Loss: 0.222956, Metrics: \n",
      "INFO:SupTrainer:Train - Epoch: 50, Loss: 0.222956, Metrics: \n",
      "INFO:SupTrainer:Validate - Epoch: 50, Loss: 0.222956, Metrics: \n"
     ]
    }
   ],
   "source": [
    "trainer.train(model, dataloader, dataloader)"
   ]
  },
  {
   "cell_type": "code",
   "execution_count": null,
   "metadata": {},
   "outputs": [],
   "source": [
    "from qulearn.fat import fat_shattering_dim\n",
    "from qulearn.datagen import DataGenFat, UniformPrior\n",
    "prior = UniformPrior(sizex=num_features, seed=0)\n",
    "gamma=0.1\n",
    "datagen = DataGenFat(prior=prior, Sb=10, Sr=5, gamma=2.0*gamma, seed=0, batch_size=25)"
   ]
  },
  {
   "cell_type": "code",
   "execution_count": null,
   "metadata": {},
   "outputs": [],
   "source": [
    "dim = fat_shattering_dim(model, datagen=datagen, trainer=trainer, dmin=1, dmax=100, gamma=gamma, dstep=1)"
   ]
  },
  {
   "cell_type": "code",
   "execution_count": null,
   "metadata": {},
   "outputs": [],
   "source": [
    "from qulearn.fat import check_shattering\n",
    "#check = check_shattering(model, datagen, trainer, 1, gamma=gamma)\n",
    "#print(check)\n",
    "print(dim)"
   ]
  },
  {
   "cell_type": "code",
   "execution_count": null,
   "metadata": {},
   "outputs": [],
   "source": [
    "print(dim)\n",
    "data = datagen.gen_data(1)\n",
    "loader = datagen.data_to_loader(data, 0, 1)\n",
    "for x, y in loader:\n",
    "    print(x)\n",
    "    print(y)\n",
    "print(data[\"b\"])\n",
    "print(data[\"r\"])\n",
    "print(0.07260766+gamma*2)"
   ]
  },
  {
   "cell_type": "code",
   "execution_count": 79,
   "metadata": {},
   "outputs": [
    {
     "data": {
      "image/png": "[encoded data removed]",
      "text/plain": [
       "<Figure size 640x480 with 1 Axes>"
      ]
     },
     "metadata": {},
     "output_type": "display_data"
    }
   ],
   "source": [
    "import torch\n",
    "import matplotlib.pyplot as plt\n",
    "\n",
    "# assuming model is your pytorch model\n",
    "# model = ...\n",
    "\n",
    "# Generate 100 random inputs between -1 and 1\n",
    "inputs = torch.linspace(-1, 0.99, 100)\n",
    "inputs = inputs.unsqueeze(-1)\n",
    "\n",
    "# Ensure the model is in evaluation mode\n",
    "model.eval()\n",
    "\n",
    "# Disable gradient calculations\n",
    "with torch.no_grad():\n",
    "    # Run the inputs through the model\n",
    "    outputs = model(inputs)\n",
    "\n",
    "# Convert tensors to numpy arrays for plotting\n",
    "inputs = inputs.numpy()\n",
    "outputs = outputs.numpy()\n",
    "\n",
    "# Create the scatter plot\n",
    "plt.scatter(inputs, outputs)\n",
    "#plt.scatter(x, y)\n",
    "\n",
    "# Show the plot\n",
    "plt.show()"
   ]
  },
  {
   "cell_type": "code",
   "execution_count": 139,
   "metadata": {},
   "outputs": [
    {
     "data": {
      "image/png": "[encoded data removed]",
      "text/plain": [
       "<Figure size 640x480 with 1 Axes>"
      ]
     },
     "metadata": {},
     "output_type": "display_data"
    }
   ],
   "source": [
    "plt.scatter(inputs, outputs)\n",
    "\n",
    "# Show the plot\n",
    "plt.show()"
   ]
  },
  {
   "cell_type": "code",
   "execution_count": null,
   "metadata": {},
   "outputs": [],
   "source": [
    "import sys\n",
    "sys.path.append(\"/home/mazen/Research/QC/QuLearn/examples/compare_models\")\n",
    "from model_builder import QNNModel, QNNStatModel"
   ]
  },
  {
   "cell_type": "code",
   "execution_count": null,
   "metadata": {},
   "outputs": [],
   "source": [
    "model = QNNStatModel(num_features=1, num_reuploads=1, num_varlayers=1, num_repeats=1, omega=0.0, double_wires=False, id=\"0\")\n",
    "for p in model.parameters():\n",
    "    print(p)"
   ]
  },
  {
   "cell_type": "code",
   "execution_count": null,
   "metadata": {},
   "outputs": [],
   "source": [
    "import pennylane as qml\n",
    "import torch\n",
    "drawer = qml.draw(model.qnn.qnode, show_all_wires=True, expansion_strategy=\"device\")\n",
    "x = torch.randn(1, 1)\n",
    "print(model(x))\n",
    "print(drawer(x))"
   ]
  },
  {
   "cell_type": "code",
   "execution_count": null,
   "metadata": {},
   "outputs": [],
   "source": [
    "import torch\n",
    "import matplotlib.pyplot as plt\n",
    "import numpy as np\n",
    "\n",
    "# assuming model is your PyTorch model\n",
    "# model = ...\n",
    "\n",
    "# Ensure the model is in evaluation mode\n",
    "model.eval()\n",
    "\n",
    "# Disable gradient calculations\n",
    "with torch.no_grad():\n",
    "    # Define input range\n",
    "    x = np.linspace(-1, 1, 50)\n",
    "    y = np.linspace(-1, 1, 50)\n",
    "    X, Y = np.meshgrid(x, y)\n",
    "\n",
    "    # Combine inputs and reshape for model input\n",
    "    inputs = np.array([X.flatten(), Y.flatten()]).T\n",
    "    inputs = torch.Tensor(inputs)\n",
    "\n",
    "    # Compute outputs\n",
    "    outputs = model(inputs)\n",
    "\n",
    "    # Convert tensors to numpy arrays for plotting\n",
    "    inputs = inputs.numpy()\n",
    "    outputs = outputs.numpy()\n",
    "\n",
    "    # Reshape output for heatmap\n",
    "    Z = outputs.reshape(50, 50)\n",
    "\n",
    "    # Create the heatmap\n",
    "    plt.imshow(Z, extent=[-1, 1, -1, 1], origin='lower')\n",
    "    plt.colorbar(label='Model output')\n",
    "    plt.xlabel('x')\n",
    "    plt.ylabel('y')\n",
    "    plt.show()"
   ]
  },
  {
   "cell_type": "code",
   "execution_count": null,
   "metadata": {},
   "outputs": [],
   "source": [
    "from mpl_toolkits.mplot3d import Axes3D\n",
    "\n",
    "# Create a 3D plot\n",
    "fig = plt.figure()\n",
    "ax = fig.add_subplot(111, projection='3d')\n",
    "ax.plot_surface(X, Y, Z, cmap='viridis')\n",
    "\n",
    "# Set labels\n",
    "ax.set_xlabel('x')\n",
    "ax.set_ylabel('y')\n",
    "ax.set_zlabel('Model output')\n",
    "\n",
    "# Show the plot\n",
    "plt.show()"
   ]
  },
  {
   "cell_type": "code",
   "execution_count": null,
   "metadata": {},
   "outputs": [],
   "source": [
    "import numpy as np\n",
    "from scipy.stats import qmc\n",
    "\n",
    "def generate_lhs_samples(n_samples, n_dims, lower_bound, upper_bound):\n",
    "    \"\"\"Generates Latin Hypercube Samples in the specified range.\"\"\"\n",
    "    sampler = qmc.LatinHypercube(d=n_dims)\n",
    "    sample = sampler.random(n=n_samples)\n",
    "    return lower_bound + sample * (upper_bound - lower_bound)\n",
    "\n",
    "import torch\n",
    "\n",
    "def generate_model_samples(model, n_samples):\n",
    "    \"\"\"Generates a list of lists of model parameters, sampled using LHS.\"\"\"\n",
    "    model_parameters = list(filter(lambda p: p.requires_grad, model.parameters()))\n",
    "\n",
    "    lower_bound = -2 * np.pi\n",
    "    upper_bound = 2 * np.pi\n",
    "    samples = []\n",
    "    for p in model_parameters:\n",
    "        n_dims = p.numel()\n",
    "        sample_parameter = generate_lhs_samples(n_samples=n_samples, n_dims=n_dims, lower_bound=lower_bound, upper_bound=upper_bound)\n",
    "        samples.append(sample_parameter)\n",
    "    parameter_list = [[torch.tensor(samples[j][i], device=None, dtype=None) for j in range(len(samples))] for i in range(n_samples)]\n",
    "\n",
    "    return parameter_list"
   ]
  },
  {
   "cell_type": "code",
   "execution_count": null,
   "metadata": {},
   "outputs": [],
   "source": [
    "test = generate_model_samples(model, 5)\n",
    "print(len(test))\n",
    "for t in test:\n",
    "    print(len(t))\n",
    "    for x in t:\n",
    "        print(x.shape)"
   ]
  },
  {
   "cell_type": "code",
   "execution_count": null,
   "metadata": {},
   "outputs": [],
   "source": [
    "for input, label in dataloader:\n",
    "    print(input)\n",
    "    print(label)\n",
    "    break"
   ]
  },
  {
   "cell_type": "code",
   "execution_count": null,
   "metadata": {},
   "outputs": [],
   "source": [
    "import logging\n",
    "logger = logging.getLogger(__name__)\n",
    "logger.setLevel(level=logging.INFO)\n",
    "logger.info(\"hello world\")"
   ]
  },
  {
   "cell_type": "code",
   "execution_count": null,
   "metadata": {},
   "outputs": [],
   "source": [
    "import torch\n",
    "print(torch.__version__)"
   ]
  },
  {
   "cell_type": "code",
   "execution_count": null,
   "metadata": {},
   "outputs": [],
   "source": [
    "from qulearn.qlayer import IQPEmbeddingLayer\n",
    "from qulearn.qlayer import QEvalType\n",
    "import torch\n",
    "import pennylane as qml\n",
    "from qulearn.observable import parity_all_hamiltonian \n",
    "\n",
    "numq = 3\n",
    "wires = range(numq)\n",
    "qdev = qml.device(\"lightning.qubit\", wires=numq, shots=None)\n",
    "@qml.qnode(qdev)\n",
    "def qnode():\n",
    "    return qml.expval(qml.PauliZ(0))\n",
    "\n",
    "out = qnode()\n",
    "print(out)\n",
    "print(qdev.shots)"
   ]
  },
  {
   "cell_type": "code",
   "execution_count": null,
   "metadata": {},
   "outputs": [],
   "source": [
    "import torch\n",
    "import math\n",
    "t = torch.nn.Parameter(torch.zeros(3, 3))\n",
    "print(t)\n",
    "torch.nn.init.uniform_(t, a=0.0, b=2*math.pi)\n",
    "print(t)\n",
    "a = [0, 1]\n",
    "b = [0, 2]\n",
    "print(a==b)"
   ]
  },
  {
   "cell_type": "code",
   "execution_count": null,
   "metadata": {},
   "outputs": [],
   "source": [
    "from qulearn.qlayer import IQPEmbeddingLayer, RYCZLayer, MeasurementLayer, HamiltonianLayer, MeasurementType, EmbedVarLayer, CircuitLayer\n",
    "import pennylane as qml\n",
    "import torch\n",
    "from qulearn.observable import parities_all_observables\n",
    "\n",
    "observable = qml.PauliZ(0)\n",
    "num_wires = 3\n",
    "num_reup = 1\n",
    "num_layers = 1\n",
    "num_repeat = 1\n",
    "qdev = qml.device('default.qubit', wires=num_wires, shots=None)\n",
    "\n",
    "upload_layer = IQPEmbeddingLayer(num_wires, num_reup)\n",
    "var_layer = RYCZLayer(num_wires, num_layers)\n",
    "embedvar = EmbedVarLayer(upload_layer, var_layer, n_repeat=num_repeat, omega=1.0)\n",
    "measure_layer = MeasurementLayer(embedvar, qdevice=qdev, measurement_type=MeasurementType.Expectation, observable=observable)\n",
    "obs = parities_all_observables(num_wires)\n",
    "ham_layer = HamiltonianLayer(embedvar, observables=obs, interface='torch', diff_method='backprop')\n",
    "#ham_layer = HamiltonianLayer(upload_layer, observables=obs)\n",
    "\n",
    "x = torch.randn(3, num_wires)\n",
    "drawer = qml.draw_mpl(ham_layer.qnode, show_all_wires=True, expansion_strategy=\"device\")\n",
    "drawer(x)\n"
   ]
  },
  {
   "cell_type": "code",
   "execution_count": null,
   "metadata": {},
   "outputs": [],
   "source": [
    "y = torch.cat((x, x), dim=1)\n",
    "print(x)\n",
    "print(y)"
   ]
  },
  {
   "cell_type": "code",
   "execution_count": null,
   "metadata": {},
   "outputs": [],
   "source": [
    "from qulearn.utils import all_bin_sequences\n",
    "from qulearn.observable import sequence2parity_observable\n",
    "from itertools import combinations\n",
    "all = all_bin_sequences(3)\n",
    "pairs = list(combinations(range(3),2 ))\n",
    "print(all)\n",
    "print(pairs)\n",
    "all_obs = sequence2parity_observable(all)\n",
    "pairs_obs = sequence2parity_observable(pairs)\n",
    "\n",
    "print(all_obs)\n",
    "print(pairs_obs)\n",
    "all_obs[0].name"
   ]
  },
  {
   "cell_type": "code",
   "execution_count": null,
   "metadata": {},
   "outputs": [],
   "source": [
    "print(tuple(range(3)))"
   ]
  },
  {
   "cell_type": "code",
   "execution_count": null,
   "metadata": {},
   "outputs": [],
   "source": [
    "for p in ham_layer.parameters():\n",
    "    print(p)\n",
    "print(ham_layer.observable.coeffs)\n",
    "print(ham_layer.observable)"
   ]
  },
  {
   "cell_type": "code",
   "execution_count": null,
   "metadata": {},
   "outputs": [],
   "source": [
    "tmp = torch.tensor([1., -1., 0.5])\n",
    "print(tmp.numel())"
   ]
  },
  {
   "cell_type": "code",
   "execution_count": null,
   "metadata": {},
   "outputs": [],
   "source": [
    "from qulearn.fim import empirical_fim, compute_fims, mc_integrate_idfim_det\n",
    "\n",
    "FIM = empirical_fim(measure_layer, x)\n",
    "for p in measure_layer.parameters():\n",
    "    print(p)\n",
    "\n",
    "plist = []\n",
    "p1 = torch.randn(4, 3)\n",
    "p2 = torch.randn(4, 3, 2, 2)\n",
    "for i in range(4):\n",
    "    plist.append([p1[i], p2[i]])\n",
    "\n",
    "FIMs = compute_fims(measure_layer, x, plist)"
   ]
  },
  {
   "cell_type": "code",
   "execution_count": null,
   "metadata": {},
   "outputs": [],
   "source": [
    "integral = mc_integrate_idfim_det(FIMs, 1.0, 1.0)\n",
    "print(integral)"
   ]
  },
  {
   "cell_type": "code",
   "execution_count": null,
   "metadata": {},
   "outputs": [],
   "source": [
    "lin = torch.nn.Linear(3, 1)\n",
    "print(lin(x))"
   ]
  },
  {
   "cell_type": "code",
   "execution_count": null,
   "metadata": {},
   "outputs": [],
   "source": [
    "y1 = upload_layer(x)\n",
    "y2 = var_layer(x)\n",
    "#y3 = measure_layer(x)\n",
    "y4 = ham_layer(x)\n",
    "\n",
    "print(y3)\n",
    "print(y4)"
   ]
  },
  {
   "cell_type": "code",
   "execution_count": null,
   "metadata": {},
   "outputs": [],
   "source": [
    "import torch\n",
    "print(y3)\n",
    "log_prob = torch.log(y3)\n",
    "print(torch.log(y3))\n",
    "print(x.shape)\n",
    "\n",
    "measure_layer.zero_grad()\n",
    "log_prob.backward(retain_graph=True)\n",
    "grad_list = [\n",
    "    p.grad.view(-1)\n",
    "    for p in measure_layer.parameters()\n",
    "    if p.requires_grad and p.grad is not None\n",
    "]\n",
    "grad = torch.cat(grad_list)\n",
    "prod = torch.outer(grad, grad)"
   ]
  },
  {
   "cell_type": "code",
   "execution_count": null,
   "metadata": {},
   "outputs": [],
   "source": [
    "for key, val in measure_layer.state_dict().items():\n",
    "    print(key)\n",
    "    print(val)\n",
    "    print(\"====\")\n",
    "\n",
    "print(\"************************************\")\n",
    "\n",
    "for key, val in ham_layer.state_dict().items():\n",
    "    print(key)\n",
    "    print(val)\n",
    "    print(\"====\")"
   ]
  },
  {
   "cell_type": "code",
   "execution_count": null,
   "metadata": {},
   "outputs": [],
   "source": [
    "from torch import nn\n",
    "class HybridModel(nn.Module):\n",
    "    def __init__(self):\n",
    "        super().__init__()\n",
    "        self.ll_in = nn.Linear(3, 3, dtype=torch.float64)\n",
    "        self.meas = ham_layer\n",
    "        self.ll_out = nn.Linear(1, 1, dtype=torch.float64)\n",
    "\n",
    "    def forward(self, x):\n",
    "\n",
    "        y = self.ll_in(x)\n",
    "        y = self.meas(y)\n",
    "        y = self.ll_out(y)\n",
    "\n",
    "        return y\n",
    "    \n",
    "hybrid = HybridModel()\n",
    "x = torch.rand(3, dtype=torch.float64)\n",
    "y = hybrid(x)\n",
    "print(y)\n",
    "for key, val in hybrid.state_dict().items():\n",
    "    print(key)\n",
    "    print(val)\n",
    "    print(\"======\")"
   ]
  },
  {
   "cell_type": "code",
   "execution_count": null,
   "metadata": {},
   "outputs": [],
   "source": [
    "print(y)"
   ]
  },
  {
   "cell_type": "code",
   "execution_count": null,
   "metadata": {},
   "outputs": [],
   "source": [
    "for key, val in measure_layer.state_dict().items():\n",
    "    print(key)\n",
    "    print(val)\n",
    "    print(\"=====\")"
   ]
  },
  {
   "cell_type": "code",
   "execution_count": null,
   "metadata": {},
   "outputs": [],
   "source": [
    "from enum import Enum\n",
    "\n",
    "class MyType(Enum):\n",
    "\n",
    "    TypeA = 0\n",
    "    TypeB = 1\n",
    "\n",
    "x = MyType.TypeA\n",
    "y = \"blub\"\n",
    "\n",
    "if x == MyType.TypeA:\n",
    "    print(x)\n",
    "\n",
    "if not isinstance(y, MyType):\n",
    "    raise NotImplementedError(\"QEvalType not implemented\")"
   ]
  },
  {
   "cell_type": "code",
   "execution_count": null,
   "metadata": {},
   "outputs": [],
   "source": [
    "import torch\n",
    "from torch.nn import Linear\n",
    "model = Linear(3, 1)\n",
    "X = torch.tensor([[0.1, 1.1, -2.2], [0.6, 4.1, -3.2], [-0.1, -2.1, -2.2]])\n",
    "Y = model(X)\n",
    "print(Y.shape)"
   ]
  },
  {
   "cell_type": "code",
   "execution_count": null,
   "metadata": {},
   "outputs": [],
   "source": [
    "from torch.utils.tensorboard import SummaryWriter\n",
    "writer = SummaryWriter(\"runs/test\")\n",
    "for i in range(10):\n",
    "    val = 1e-01\n",
    "    writer.add_scalar(\"foobar1\", val, i)\n",
    "    writer.add_scalars(\"loss\", {\"train\": val, \"valid\": val+1.0}, i)\n",
    "writer.close()"
   ]
  },
  {
   "cell_type": "code",
   "execution_count": null,
   "metadata": {},
   "outputs": [],
   "source": [
    "import torch\n",
    "import pennylane as qml\n",
    "from qml_mor.models import IQPEReuploadSU2Parity, ModelType\n",
    "from torch.utils.data import TensorDataset, DataLoader\n",
    "\n",
    "num_samples=1\n",
    "num_qubits = 3\n",
    "num_reups = 1\n",
    "num_layers = 1\n",
    "sizex = num_qubits\n",
    "\n",
    "omega = 0.0\n",
    "init_theta = torch.randn(num_reups, num_qubits, requires_grad=True)\n",
    "theta = torch.randn(\n",
    "    num_reups, num_layers, num_qubits - 1, 2, requires_grad=True\n",
    ")\n",
    "W = torch.randn(2**num_qubits, requires_grad=True)\n",
    "\n",
    "params = [init_theta, theta, W]\n",
    "\n",
    "dev = qml.device(\"default.qubit\", wires=num_qubits, shots=None)\n",
    "\n",
    "model = IQPEReuploadSU2Parity(dev, params, model_type=ModelType.Expectation)\n",
    "X = torch.randn(10, 3)\n",
    "Ypred = model(X)\n",
    "print(Ypred)\n",
    "print(Ypred.shape)\n",
    "\n",
    "loss = torch.nn.MSELoss()\n",
    "test = loss(Ypred, Ypred)\n",
    "print(test)"
   ]
  },
  {
   "cell_type": "code",
   "execution_count": null,
   "metadata": {},
   "outputs": [],
   "source": [
    "from torch.nn import Parameter\n",
    "P = model.parameters()\n",
    "for p in P:\n",
    "    print(p)\n",
    "print(\"====================\")\n",
    "save = model.state_dict().copy()\n",
    "\n",
    "init_theta = torch.randn(num_reups, num_qubits, requires_grad=True)\n",
    "theta = torch.randn(\n",
    "    num_reups, num_layers, num_qubits - 1, 2, requires_grad=True\n",
    ")\n",
    "W = torch.randn(2**num_qubits, requires_grad=True)\n",
    "\n",
    "params = [init_theta, theta, W]\n",
    "\n",
    "model = IQPEReuploadSU2Parity(dev, params)\n",
    "\n",
    "P = model.parameters()\n",
    "for p in P:\n",
    "    print(p)\n",
    "print(\"====================\")\n",
    "model.load_state_dict(save)\n",
    "P = model.parameters()\n",
    "for p in P:\n",
    "    print(p)\n",
    "print(\"====================\")\n",
    "print(save)"
   ]
  },
  {
   "cell_type": "code",
   "execution_count": null,
   "metadata": {},
   "outputs": [],
   "source": [
    "import os\n",
    "os.environ[\"OMP_NUM_THREADS\"] = \"8\"\n",
    "from qulearn.qlayer import IQPEmbeddingLayer, RYCZLayer, MeasurementLayer, HamiltonianLayer, MeasurementType, EmbedVarLayer, CircuitLayer\n",
    "import pennylane as qml\n",
    "import torch\n",
    "from qulearn.observable import parities_all_observables\n",
    "\n",
    "observable = qml.PauliZ(0)\n",
    "num_wires = 3\n",
    "num_reup = 1\n",
    "num_layers = 1\n",
    "num_repeat = 3\n",
    "qdev = qml.device('default.qubit', wires=num_wires, shots=None)\n",
    "\n",
    "upload_layer = IQPEmbeddingLayer(num_wires, num_reup)\n",
    "var_layer = RYCZLayer(num_wires, num_layers)\n",
    "embedvar = EmbedVarLayer(upload_layer, var_layer, n_repeat=num_repeat, omega=1.0)\n",
    "obs = parities_all_observables(num_wires)\n",
    "ham_layer = HamiltonianLayer(embedvar,  qdevice=qdev, observables=obs, interface='torch', diff_method='adjoint')\n",
    "\n",
    "x = torch.zeros(3, num_wires)\n",
    "print(ham_layer(x))"
   ]
  },
  {
   "cell_type": "code",
   "execution_count": null,
   "metadata": {},
   "outputs": [],
   "source": [
    "import torch\n",
    "from torch.utils.data import DataLoader, TensorDataset\n",
    "N = 100\n",
    "torch.manual_seed(0)\n",
    "X = torch.randn(N, 10, dtype=torch.float64)\n",
    "#Y = torch.randn(N, 1, dtype=torch.float64)\n",
    "A = torch.randn(10, 1, dtype=torch.float64)\n",
    "b = torch.randn(1, dtype=torch.float64)\n",
    "eps = torch.randn(N, dtype=torch.float64)*0.001\n",
    "Y = torch.matmul(X, A) + b + eps\n",
    "model = torch.nn.Linear(10, 1, bias=True, dtype=torch.float64)\n",
    "batch_size=4\n",
    "shuffle=True\n",
    "\n",
    "dataset = TensorDataset(X, Y)\n",
    "loader = DataLoader(dataset, batch_size=batch_size, shuffle=shuffle)"
   ]
  },
  {
   "cell_type": "code",
   "execution_count": null,
   "metadata": {},
   "outputs": [],
   "source": [
    "from torch.optim import Adam\n",
    "from qulearn.trainer import SupervisedTrainer\n",
    "import logging\n",
    "from torch.utils.tensorboard import SummaryWriter\n",
    "opt = Adam(model.parameters(), lr=0.1, amsgrad=True)\n",
    "loss_fn = torch.nn.MSELoss()\n",
    "metrics = {\"L1\": loss_fn, \"L2\": loss_fn}\n",
    "writer = SummaryWriter()\n",
    "logger = logging.getLogger(\"SupTrainer\")\n",
    "logger.setLevel(level=logging.INFO)\n",
    "trainer = SupervisedTrainer(opt, loss_fn, metrics, 200, logger=logger)"
   ]
  },
  {
   "cell_type": "code",
   "execution_count": null,
   "metadata": {},
   "outputs": [],
   "source": [
    "trainer.train(model, loader, loader)"
   ]
  },
  {
   "cell_type": "code",
   "execution_count": null,
   "metadata": {},
   "outputs": [],
   "source": [
    "%%timeit\n",
    "trainer.train(ham_layer, loader, loader) # lightning + torch + adjoint (+ omp-num-threads=8)"
   ]
  },
  {
   "cell_type": "code",
   "execution_count": null,
   "metadata": {},
   "outputs": [],
   "source": [
    "%%timeit\n",
    "trainer.train(ham_layer, loader, loader) # default + torch + backprop"
   ]
  },
  {
   "cell_type": "code",
   "execution_count": null,
   "metadata": {},
   "outputs": [],
   "source": [
    "%%timeit\n",
    "trainer.train(ham_layer, loader, loader) # default + torch + adjoint"
   ]
  },
  {
   "cell_type": "code",
   "execution_count": null,
   "metadata": {},
   "outputs": [],
   "source": [
    "%lprun -T lprof0 -u 1.0 -f trainer._train_step trainer.train(ham_layer, loader, loader)\n",
    "writer.close()"
   ]
  },
  {
   "cell_type": "code",
   "execution_count": null,
   "metadata": {},
   "outputs": [],
   "source": [
    "from enum import Enum\n",
    "\n",
    "class MeasurementType(Enum):\n",
    "    \"\"\"Measurement type for a measurement layer.\"\"\"\n",
    "\n",
    "    \"\"\"Expectation: return expected value of observable.\"\"\"\n",
    "    Expectation\n",
    "    \"\"\"Probabilities: return vector of probabilities.\"\"\"\n",
    "    Probabilities = \"probabilities\"\n",
    "    \"\"\"Samples: return measurement samples.\"\"\"\n",
    "    Samples = \"samples\"\n",
    "\n",
    "example = MeasurementType.Expectation\n",
    "print(type(example.name))"
   ]
  },
  {
   "cell_type": "code",
   "execution_count": null,
   "metadata": {},
   "outputs": [],
   "source": [
    "from qml_mor.trainer import RegressionTrainer\n",
    "from torch.utils.tensorboard import SummaryWriter\n",
    "from torch.optim import Adam\n",
    "from datetime import datetime\n",
    "\n",
    "optimizer = Adam(model.parameters(), lr=0.1, amsgrad=True)\n",
    "timestamp = datetime.now().strftime('%Y%m%d_%H%M%S')\n",
    "writer = SummaryWriter('runs/check_{}'.format(timestamp))\n",
    "loss_fn = torch.nn.MSELoss()\n",
    "training = RegressionTrainer(optimizer, loss_fn, writer)\n",
    "loss = training.train(model, loader, loader)\n",
    "print(loss)\n",
    "writer.close()"
   ]
  },
  {
   "cell_type": "code",
   "execution_count": null,
   "metadata": {},
   "outputs": [],
   "source": [
    "path = \"model_bestmre\"\n",
    "state = torch.load(path)\n",
    "model.load_state_dict(state)\n",
    "Ypred = model(X)\n",
    "print(Y)\n",
    "print(\"==============\")\n",
    "print(Ypred)"
   ]
  },
  {
   "cell_type": "code",
   "execution_count": null,
   "metadata": {},
   "outputs": [],
   "source": [
    "%load_ext tensorboard\n",
    "%tensorboard --logdir runs/fashion_trainer_20230517_113403"
   ]
  },
  {
   "cell_type": "code",
   "execution_count": null,
   "metadata": {},
   "outputs": [],
   "source": [
    "import torch\n",
    "import pennylane as qml\n",
    "from torch.utils.data import TensorDataset, DataLoader\n",
    "from qml_mor.models import IQPEReuploadSU2Parity\n",
    "from qml_mor.trainer import AdamTorch\n",
    "from qml_mor.datagen import DataGenCapacity\n",
    "\n",
    "num_samples=1\n",
    "num_qubits = 3\n",
    "num_reups = 1\n",
    "num_layers = 1\n",
    "sizex = num_qubits\n",
    "\n",
    "datagen = DataGenCapacity(sizex=sizex, num_samples=num_samples)\n",
    "\n",
    "omega = 0.0\n",
    "init_theta = torch.randn(num_reups, num_qubits, requires_grad=True)\n",
    "theta = torch.randn(\n",
    "    num_reups, num_layers, num_qubits - 1, 2, requires_grad=True\n",
    ")\n",
    "W = torch.randn(2**num_qubits, requires_grad=True)\n",
    "\n",
    "params = [init_theta, theta, W]\n",
    "\n",
    "model = IQPEReuploadSU2Parity(omega)\n",
    "dev = qml.device(\"default.qubit\", wires=num_qubits, shots=None)\n",
    "\n",
    "@qml.qnode(dev, interface=\"torch\")\n",
    "def qnn_model(x, params):\n",
    "    return model.qfunction(x, params)\n",
    "\n",
    "loss_fn = torch.nn.MSELoss()\n",
    "num_epochs = 300\n",
    "opt = AdamTorch(params, loss_fn, num_epochs=num_epochs, amsgrad=True)\n",
    "\n",
    "N = 10\n",
    "batch_size=int(\"inf\")\n",
    "shuffle=True\n",
    "data = datagen.gen_data(N)\n",
    "X = data[\"X\"]\n",
    "Y = data[\"Y\"][0]\n",
    "dataset = TensorDataset(X, Y)\n",
    "loader = DataLoader(dataset, batch_size=batch_size, shuffle=shuffle)\n",
    "\n",
    "opt_params = opt.optimize(qnn_model, loader)"
   ]
  },
  {
   "cell_type": "code",
   "execution_count": null,
   "metadata": {},
   "outputs": [],
   "source": [
    "Nx = X.size(0)\n",
    "y_pred = torch.stack([qnn_model(X[k], opt_params) for k in range(Nx)])\n",
    "mre = torch.mean(torch.abs((Y - y_pred) / y_pred))\n",
    "\n",
    "print(mre)\n",
    "print(loss_fn(y_pred, Y))"
   ]
  },
  {
   "cell_type": "code",
   "execution_count": null,
   "metadata": {},
   "outputs": [],
   "source": [
    "import torch\n",
    "from torch.utils.data import TensorDataset, DataLoader\n",
    "X = torch.randn(5, 3)\n",
    "Y = torch.randn(5)\n",
    "batch_size = 2\n",
    "\n",
    "dataset = TensorDataset(X, Y)\n",
    "shuffle = True\n",
    "loader = DataLoader(dataset, batch_size=batch_size, shuffle=shuffle)\n",
    "\n",
    "print(X)\n",
    "print(Y)\n",
    "print(\"===========\")\n",
    "for X_, Y_ in loader:\n",
    "    print(X_.size(0))\n",
    "    print(X_)\n",
    "    print(Y_)\n",
    "    print(\"***********\")"
   ]
  },
  {
   "cell_type": "code",
   "execution_count": null,
   "metadata": {},
   "outputs": [],
   "source": [
    "from qml_mor.datagen import DataGenRademacher, NormalPrior\n",
    "prior = NormalPrior(3, seed=0)\n",
    "radem = DataGenRademacher(prior, 2, 3, seed=None)\n",
    "data = radem.gen_data(4)\n",
    "print(data)"
   ]
  },
  {
   "cell_type": "code",
   "execution_count": null,
   "metadata": {},
   "outputs": [],
   "source": [
    "import torch\n",
    "import pennylane as qml\n",
    "num_qubits = 3\n",
    "W = torch.randn(2**num_qubits, requires_grad=False)\n",
    "from qulearn.qlayer import parity_hamiltonian\n",
    "H = parity_hamiltonian(num_qubits, W)\n",
    "print(W)\n",
    "print(\"======\")\n",
    "Z = qml.PauliZ(wires=0)\n",
    "print(H.coeffs.requires_grad)\n",
    "W_ = torch.nn.Parameter()\n",
    "print(W_)"
   ]
  },
  {
   "cell_type": "code",
   "execution_count": null,
   "metadata": {},
   "outputs": [],
   "source": []
  },
  {
   "cell_type": "code",
   "execution_count": null,
   "metadata": {},
   "outputs": [],
   "source": [
    "import pennylane as qml\n",
    "import torch\n",
    "from qml_mor.models import IQPEReuploadSU2Parity\n",
    "\n",
    "num_qubits  = 3\n",
    "num_reps    = 2\n",
    "num_layers  = 2\n",
    "omega       = 1.\n",
    "torch.manual_seed(0)\n",
    "x           = torch.randn(num_qubits, requires_grad=False)\n",
    "init_theta  = torch.randn(num_reps, num_qubits, requires_grad=True)\n",
    "theta       = torch.randn(num_reps, num_layers, num_qubits-1, 2, requires_grad=True)\n",
    "W           = torch.randn(2**num_qubits, requires_grad=True)\n",
    "\n",
    "params = [init_theta, theta, W]\n",
    "\n",
    "def iqpe_reupload_su2_parity(\n",
    "    x, init_theta, theta, W, omega: float = 0.0\n",
    "):\n",
    "    \"\"\"\n",
    "    Quantum function that calculates the expectation value\n",
    "    of the parity of Pauli Z operators.\n",
    "\n",
    "    Args:\n",
    "        x (Tensor): Input tensor of shape (num_qubits,)\n",
    "        init_theta (Tensor): Initial rotation angles for each qubit,\n",
    "            of shape (reps, num_qubits)\n",
    "        theta (Tensor): Rotation angles for each layer and each qubit,\n",
    "            of shape (reps, num_layers, num_qubits-1, 2)\n",
    "        W (Tensor): Observable weights of shape (2^num_qubits,)\n",
    "        omega (float, optional): Exponential feature scaling factor. Defaults to 0.0.\n",
    "\n",
    "    Returns:\n",
    "        QFuncOutput: Expectation value of the parity of Pauli Z operators\n",
    "    \"\"\"\n",
    "\n",
    "    shape_init = init_theta.shape\n",
    "    shape = theta.shape\n",
    "    if len(shape_init) != 2:\n",
    "        raise ValueError(\"Initial theta must be a 2-dim tensor\")\n",
    "    if len(shape) != 4:\n",
    "        raise ValueError(\"Theta must be a 4-dim tensor\")\n",
    "\n",
    "    num_qubits = len(x)\n",
    "    reps = shape_init[0]\n",
    "    wires = range(num_qubits)\n",
    "\n",
    "    for layer in range(reps):\n",
    "        features = 2 ** (omega * layer) * x\n",
    "        initial_layer_weights = init_theta[layer]\n",
    "        weights = theta[layer]\n",
    "\n",
    "        qml.IQPEmbedding(features=features, wires=wires)\n",
    "        qml.SimplifiedTwoDesign(\n",
    "            initial_layer_weights=initial_layer_weights,\n",
    "            weights=weights,\n",
    "            wires=wires,\n",
    "        )\n",
    "\n",
    "def iqpe_reupload_su2_meas(\n",
    "    x, init_theta, theta, W, omega: float = 0.0\n",
    "):\n",
    "    iqpe_reupload_su2_parity(x, init_theta, theta, W, omega)\n",
    "    obs = parities(len(x))\n",
    "    H = qml.Hamiltonian(W, obs)\n",
    "\n",
    "    return qml.sample()\n",
    "\n",
    "#qnn_model = IQPEReuploadSU2Parity(params, omega=1.0)\n",
    "\n",
    "dev = qml.device(\"default.qubit\", wires=num_qubits, shots=None)\n",
    "qnode = qml.QNode(iqpe_reupload_su2_meas, dev, interface=\"torch\")\n",
    "#drawer = qml.draw(qnode, expansion_strategy=\"device\")\n",
    "#print(drawer(x, init_theta, theta, W))\n",
    "probs = qnode(x, init_theta, theta, W, omega)\n",
    "probs"
   ]
  },
  {
   "cell_type": "code",
   "execution_count": null,
   "metadata": {},
   "outputs": [],
   "source": [
    "samples = probs\n",
    "bitstrings = [''.join(str(b.item()) for b in sample) for sample in samples]\n",
    "bitstring_counts = {bs: bitstrings.count(bs) for bs in set(bitstrings)}\n",
    "print(samples)\n",
    "print(bitstrings)\n",
    "print(bitstring_counts)"
   ]
  },
  {
   "cell_type": "code",
   "execution_count": null,
   "metadata": {},
   "outputs": [],
   "source": [
    "from qml_mor.models import IQPEReuploadSU2Parity\n",
    "\n",
    "model = IQPEReuploadSU2Parity()\n",
    "\n",
    "qnode = qml.QNode(model.probabilities, dev, interface=\"torch\")\n",
    "probs = qnode(x, params)\n",
    "print(probs)\n",
    "print(model.Hamiltonian(params))"
   ]
  },
  {
   "cell_type": "code",
   "execution_count": null,
   "metadata": {},
   "outputs": [],
   "source": [
    "H = model.Hamiltonian(params)\n",
    "sum = 0.0\n",
    "b = \"110\"\n",
    "\n",
    "for idx, O in enumerate(H.ops):\n",
    "\n",
    "    if not isinstance(O.name, list):\n",
    "        if O.name == \"Identity\":\n",
    "            sum += H.coeffs[idx]\n",
    "        elif O.name == \"PauliZ\":\n",
    "            i = O.wires[0]\n",
    "            sign = (-1)**(int(b[-1-i]))\n",
    "            sum += sign*H.coeffs[idx]\n",
    "        else:\n",
    "            raise ValueError(\"All operators must be PauliZ or Identity.\")\n",
    "    else:\n",
    "        if not all(name==\"PauliZ\" for name in O.name):\n",
    "            raise ValueError(\"All operators must be PauliZ or Identity.\")\n",
    "        \n",
    "        sign = 1\n",
    "        for w in O.wires:\n",
    "            sign *= (-1)**(int(b[-1-w]))\n",
    "\n",
    "        sum += sign*H.coeffs[idx]"
   ]
  },
  {
   "cell_type": "code",
   "execution_count": null,
   "metadata": {},
   "outputs": [],
   "source": [
    "print(probs)\n",
    "marginal = qml.math.marginal_prob(probs, axis=[0])\n",
    "print(marginal)"
   ]
  },
  {
   "cell_type": "code",
   "execution_count": null,
   "metadata": {},
   "outputs": [],
   "source": [
    "from qml_mor.models import parities\n",
    "\n",
    "n = 3\n",
    "test = parities(n)\n",
    "H = qml.Hamiltonian(W, test)\n",
    "print(H)\n",
    "print(H.ops)"
   ]
  },
  {
   "attachments": {},
   "cell_type": "markdown",
   "metadata": {},
   "source": [
    "# Model Definition"
   ]
  },
  {
   "cell_type": "code",
   "execution_count": null,
   "metadata": {},
   "outputs": [],
   "source": [
    "# feature layer\n",
    "def feature_layer(x):\n",
    "    num_qubits = len(x)\n",
    "    qml.IQPEmbedding(x, wires=range(num_qubits))"
   ]
  },
  {
   "cell_type": "code",
   "execution_count": null,
   "metadata": {},
   "outputs": [],
   "source": [
    "# variational layer\n",
    "def variational_layer(init_theta, theta, num_qubits):\n",
    "    qml.SimplifiedTwoDesign(initial_layer_weights=init_theta, weights=theta, wires=range(num_qubits))"
   ]
  },
  {
   "cell_type": "code",
   "execution_count": null,
   "metadata": {},
   "outputs": [],
   "source": [
    "# observable / output layer\n",
    "def sequence_generator(n):\n",
    "    if n == 0:\n",
    "        return [[]]\n",
    "    else:\n",
    "        sequences = []\n",
    "        for sequence in sequence_generator(n-1):\n",
    "            sequences.append(sequence + [n-1])\n",
    "            sequences.append(sequence)\n",
    "        return sequences\n",
    "    \n",
    "def parities(n):\n",
    "    \n",
    "    seq = sequence_generator(n)\n",
    "    ops = []\n",
    "    for par in seq:\n",
    "        if par:\n",
    "            tmp = qml.PauliZ(par[0])\n",
    "            if len(par) > 1:\n",
    "                for i in par[1:]:\n",
    "                    tmp = tmp @ qml.PauliZ(i)\n",
    "\n",
    "            ops.append(tmp)\n",
    "\n",
    "    ops.append(qml.Identity(0))\n",
    "\n",
    "    return ops"
   ]
  },
  {
   "cell_type": "code",
   "execution_count": null,
   "metadata": {},
   "outputs": [],
   "source": [
    "from pennylane.templates import IQPEmbedding, SimplifiedTwoDesign\n",
    "# QNN model\n",
    "@qml.qnode(dev, interface='torch')\n",
    "def qnn_model(x, init_theta, theta, W, omega=0.):\n",
    "\n",
    "    num_qubits = len(x)\n",
    "    shape_init = init_theta.shape\n",
    "    reps       = 1\n",
    "    if len(shape_init) < 1:\n",
    "        init_theta = [init_theta]\n",
    "        shape_init = init_theta.shape\n",
    "    reps       = shape_init[0]\n",
    "\n",
    "    shape_theta = theta.shape\n",
    "    reps_       = 1\n",
    "    if len(shape_theta) < 3:\n",
    "        theta       = [theta]\n",
    "        shape_theta = theta.shape\n",
    "    reps_       = shape_theta[0]\n",
    "\n",
    "    assert reps == reps_\n",
    "    for l in range(reps):\n",
    "        qml.IQPEmbedding(features=2**(omega*l)*x, wires=range(num_qubits))\n",
    "        qml.SimplifiedTwoDesign(initial_layer_weights=init_theta[l], weights=theta[l], wires=range(num_qubits))\n",
    "\n",
    "    obs = parities(num_qubits)\n",
    "    H   = qml.Hamiltonian(W, obs)\n",
    "\n",
    "    return qml.expval(H)"
   ]
  },
  {
   "cell_type": "code",
   "execution_count": null,
   "metadata": {},
   "outputs": [],
   "source": [
    "import pennylane as qml\n",
    "from pennylane.templates import IQPEmbedding\n",
    "\n",
    "n_wires = 3\n",
    "n_layers = 2\n",
    "\n",
    "dev = qml.device(\"default.qubit\", wires=n_wires)\n",
    "@qml.qnode(dev, interface='torch')\n",
    "def iqpe_circuit(features):\n",
    "    for layer in range(n_layers):\n",
    "        # Apply the IQPEmbedding template in a loop\n",
    "        IQPEmbedding(features=features[layer], wires=range(n_wires))\n",
    "\n",
    "    return [qml.expval(qml.PauliZ(wires=i)) for i in range(n_wires)]\n",
    "\n",
    "features = np.random.random((n_layers, n_wires))\n",
    "\n",
    "result1 = iqpe_circuit(features)"
   ]
  },
  {
   "cell_type": "code",
   "execution_count": null,
   "metadata": {},
   "outputs": [],
   "source": [
    "num_qubits  = 3\n",
    "num_reps    = 0\n",
    "num_layers  = 0\n",
    "omega       = 1.\n",
    "x           = torch.randn(num_qubits, requires_grad=False)\n",
    "init_theta  = torch.randn(num_reps, num_qubits, requires_grad=True)\n",
    "theta       = torch.randn(num_reps, num_layers, num_qubits-1, 2, requires_grad=True)\n",
    "W           = torch.randn(2**num_qubits, requires_grad=True)\n",
    "\n",
    "result1 = qnn_model(x, init_theta, theta, W)\n",
    "result2 = qnn_model(x, init_theta, theta, W)\n",
    "\n",
    "ret = torch.stack([result1, result2])\n",
    "result1.size()"
   ]
  },
  {
   "cell_type": "code",
   "execution_count": null,
   "metadata": {},
   "outputs": [],
   "source": [
    "from scipy.stats import qmc\n",
    "def generate_samples_r(d, S):\n",
    "    sampler = qmc.LatinHypercube(d=d)\n",
    "    r_samples = sampler.random(n=S)\n",
    "    return r_samples\n",
    "r = generate_samples_r(10, 2)\n",
    "print(len(r[0]))\n",
    "\n",
    "tmp = set()\n",
    "rng = np.random.default_rng(seed=0)\n",
    "b1 = tuple(rng.integers(0, 2, size=4))\n",
    "b2 = tuple(rng.integers(0, 2, size=4))\n",
    "tmp.add(b1)\n",
    "tmp.add(b2)\n",
    "print(tmp)\n",
    "arr = np.array(list(tmp))\n",
    "print(arr)\n",
    "arr[0, 3]"
   ]
  },
  {
   "cell_type": "code",
   "execution_count": null,
   "metadata": {},
   "outputs": [],
   "source": [
    "import torch\n",
    "\n",
    "# Original list of tensors\n",
    "tensor_list = [torch.tensor([1., 2., 3.], requires_grad=True),\n",
    "               torch.tensor([4., 5., 6.], requires_grad=False)]\n",
    "\n",
    "est_params = [\n",
    "                        t.detach().clone().requires_grad_(t.requires_grad)\n",
    "                        for t in tensor_list\n",
    "                    ]\n",
    "tensor_list *= 2\n",
    "print(tensor_list)\n",
    "print(est_params)"
   ]
  },
  {
   "cell_type": "code",
   "execution_count": null,
   "metadata": {},
   "outputs": [],
   "source": [
    "msg = (f\"Stopping early\\n\"\n",
    "       \"Loss not improving\")\n",
    "print(msg)"
   ]
  },
  {
   "cell_type": "code",
   "execution_count": null,
   "metadata": {},
   "outputs": [],
   "source": [
    "import pennylane as qml\n",
    "import torch\n",
    "import torch.optim as optim\n",
    "import torch.nn as nn\n",
    "\n",
    "# Define the quantum device\n",
    "dev = qml.device(\"default.qubit\", wires=2)\n",
    "\n",
    "# Define the custom model as a PennyLane QNode\n",
    "@qml.qnode(dev, interface=\"torch\")\n",
    "def custom_model(x, y):\n",
    "    # Apply your quantum circuit here, which uses input x and trainable parameters y\n",
    "    # As an example, we'll use a simple circuit with one rotation gate parameterized by y:\n",
    "    qml.RY(y[0], wires=0)\n",
    "    qml.RX(x, wires=1)\n",
    "    qml.CNOT(wires=[0, 1])\n",
    "    return qml.expval(qml.PauliZ(1))\n",
    "\n",
    "# Define the dataset (x_data, y_data)\n",
    "x_data = torch.tensor([0.1, 0.2, 0.3, 0.4, 0.5], dtype=torch.float32)\n",
    "y_data = torch.tensor([0.5, 0.4, 0.3, 0.2, 0.1], dtype=torch.float32)\n",
    "\n",
    "# Initialize the trainable parameters\n",
    "params = torch.tensor([0.0], dtype=torch.float32, requires_grad=True)\n",
    "\n",
    "# Set the hyperparameters\n",
    "learning_rate = 0.01\n",
    "epochs = 100\n",
    "loss_fn = nn.MSELoss()\n",
    "optimizer = optim.Adam([params], lr=learning_rate)\n",
    "\n",
    "# Training loop\n",
    "for epoch in range(epochs):\n",
    "    optimizer.zero_grad()\n",
    "\n",
    "    # Forward pass\n",
    "    predictions = torch.tensor([custom_model(x, params) for x in x_data], dtype=torch.float32)\n",
    "    loss = loss_fn(predictions, y_data)\n",
    "\n",
    "    # Backward pass\n",
    "    loss.backward()\n",
    "    optimizer.step()\n",
    "\n",
    "    if (epoch + 1) % 10 == 0:\n",
    "        print(f\"Epoch {epoch + 1}, Loss: {loss.item()}\")\n",
    "\n",
    "print(f\"Trained parameters: {params}\")"
   ]
  },
  {
   "cell_type": "code",
   "execution_count": null,
   "metadata": {},
   "outputs": [],
   "source": [
    "num_qubits  = 3\n",
    "num_reps    = 3\n",
    "num_layers  = 0\n",
    "omega       = 1.\n",
    "x           = torch.randn(num_qubits, requires_grad=False)\n",
    "init_theta  = torch.randn(num_reps, num_qubits, requires_grad=True)\n",
    "theta       = torch.randn(num_reps, num_layers, num_qubits-1, 2, requires_grad=True)\n",
    "W           = torch.randn(2**num_qubits, requires_grad=True)\n",
    "def qnn_model(x, init_theta, theta, W, omega=0.):\n",
    "\n",
    "    num_qubits = len(x)\n",
    "    shape_init = init_theta.shape\n",
    "    reps       = 1\n",
    "    if len(shape_init) < 1:\n",
    "        init_theta = [init_theta]\n",
    "        shape_init = init_theta.shape\n",
    "    reps       = shape_init[0]\n",
    "\n",
    "    shape_theta = theta.shape\n",
    "    reps_       = 1\n",
    "    if len(shape_theta) < 3:\n",
    "        theta       = [theta]\n",
    "        shape_theta = theta.shape\n",
    "    reps_       = shape_theta[0]\n",
    "\n",
    "    assert reps == reps_\n",
    "    for l in range(reps):\n",
    "        qml.IQPEmbedding(features=2**(omega*l)*x, wires=range(num_qubits))\n",
    "        qml.SimplifiedTwoDesign(initial_layer_weights=init_theta[l], weights=theta[l], wires=range(num_qubits))\n",
    "\n",
    "    obs = parities(num_qubits)\n",
    "    H   = qml.Hamiltonian(W, obs)\n",
    "\n",
    "    return qml.expval(H)\n",
    "\n",
    "result = qnn_model(x, init_theta, theta, W)\n",
    "print(result.shape())"
   ]
  },
  {
   "cell_type": "code",
   "execution_count": null,
   "metadata": {},
   "outputs": [],
   "source": [
    "tmp = parities(3)\n",
    "for x in tmp:\n",
    "    print(type(x))\n",
    "    print(issubclass(type(x), qml.operation.Observable))"
   ]
  },
  {
   "cell_type": "code",
   "execution_count": null,
   "metadata": {},
   "outputs": [],
   "source": [
    "# example\n",
    "num_qubits  = 3\n",
    "num_reps    = 3\n",
    "num_layers  = 0\n",
    "omega       = 1.\n",
    "x           = torch.randn(num_qubits, requires_grad=False)\n",
    "init_theta  = torch.randn(num_reps, num_qubits, requires_grad=True)\n",
    "theta       = torch.randn(num_reps, num_layers, num_qubits-1, 2, requires_grad=True)\n",
    "W           = torch.randn(2**num_qubits, requires_grad=True)\n",
    "\n",
    "print(qml.draw_mpl(qnn_model)(x, init_theta, theta, W, omega))"
   ]
  },
  {
   "attachments": {},
   "cell_type": "markdown",
   "metadata": {},
   "source": [
    "# Datasets for Capacity Estimation"
   ]
  },
  {
   "cell_type": "code",
   "execution_count": null,
   "metadata": {},
   "outputs": [],
   "source": [
    "def gen_dataset(N, samples=10, seed=0):\n",
    "    sizex   = num_qubits\n",
    "    scale   = 2.\n",
    "    shift   = -1.\n",
    "\n",
    "    torch.manual_seed(seed)\n",
    "    x       = scale*torch.rand(N, sizex, requires_grad=False) + shift\n",
    "    y       = scale*torch.rand(samples, N, requires_grad=False) + shift\n",
    "\n",
    "    return x, y"
   ]
  },
  {
   "attachments": {},
   "cell_type": "markdown",
   "metadata": {},
   "source": [
    "# Training"
   ]
  },
  {
   "cell_type": "code",
   "execution_count": null,
   "metadata": {},
   "outputs": [],
   "source": [
    "# model specs\n",
    "num_qubits  = 3\n",
    "num_reps    = 2\n",
    "num_layers  = 2\n",
    "omega       = 1."
   ]
  },
  {
   "cell_type": "code",
   "execution_count": null,
   "metadata": {},
   "outputs": [],
   "source": [
    "import this"
   ]
  },
  {
   "cell_type": "code",
   "execution_count": null,
   "metadata": {},
   "outputs": [],
   "source": [
    "# initial parameters\n",
    "seed = 0\n",
    "torch.manual_seed(seed)\n",
    "init_theta  = torch.randn(num_reps, num_qubits, requires_grad=True)\n",
    "theta       = torch.randn(num_reps, num_layers, num_qubits-1, 2, requires_grad=True)\n",
    "W           = torch.randn(2**num_qubits, requires_grad=True)"
   ]
  },
  {
   "cell_type": "code",
   "execution_count": null,
   "metadata": {},
   "outputs": [],
   "source": [
    "# loss function\n",
    "def square_loss(targets, predictions):\n",
    "    loss = 0\n",
    "    for t, p in zip(targets, predictions):\n",
    "        loss += (t - p) ** 2\n",
    "    loss = loss / len(targets)\n",
    "    return 0.5*loss"
   ]
  },
  {
   "cell_type": "code",
   "execution_count": null,
   "metadata": {},
   "outputs": [],
   "source": [
    "# capacity estimation parameters\n",
    "Nmin     = 1\n",
    "Nmax     = 5\n",
    "samples  = 10\n",
    "steps    = 300\n",
    "eps_stop = 1e-12"
   ]
  },
  {
   "cell_type": "code",
   "execution_count": null,
   "metadata": {},
   "outputs": [],
   "source": [
    "summary = {}\n",
    "for N in range(Nmin, Nmax):\n",
    "    x, y = gen_dataset(N, samples)\n",
    "    \n",
    "    mre_sample = []\n",
    "    for s in range(samples):\n",
    "        print('===================================')\n",
    "        def cost(init_theta, theta, W):\n",
    "            pred = [qnn_model(x[k], init_theta, theta, W) for k in range(N)]\n",
    "            loss = square_loss(y[s], pred)\n",
    "            return loss\n",
    "        \n",
    "        # optimize\n",
    "        opt = torch.optim.Adam([init_theta, theta, W], lr=0.1, amsgrad=True)\n",
    "        for n in range(steps):\n",
    "            opt.zero_grad()\n",
    "            loss = cost(init_theta, theta, W)\n",
    "            loss.backward()\n",
    "            opt.step()\n",
    "\n",
    "            if n%10 == 9 or n == steps - 1:\n",
    "                print(f'{n+1}: {loss}')\n",
    "\n",
    "            if loss <= eps_stop:\n",
    "                break\n",
    "\n",
    "        # compute prediction errors\n",
    "        y_pred = torch.tensor([qnn_model(x[k], init_theta, theta, W) for k in range(N)], requires_grad=False)\n",
    "        mre    = torch.mean(torch.abs((y[s]-y_pred)/y_pred))\n",
    "        mre_sample.append(mre)\n",
    "\n",
    "    mre_N = torch.mean(torch.tensor(mre_sample))\n",
    "    summary[f'N = {N}'] = mre_N.item()"
   ]
  },
  {
   "cell_type": "code",
   "execution_count": null,
   "metadata": {},
   "outputs": [],
   "source": [
    "for count, eps in enumerate(summary.values()):\n",
    "    m = int(np.log2(1./eps.item()))\n",
    "    C = (count+1)*m\n",
    "    print(C)\n",
    "print(torch.numel(init_theta))"
   ]
  },
  {
   "cell_type": "code",
   "execution_count": null,
   "metadata": {},
   "outputs": [],
   "source": [
    "C = [-0.5, 13.1, 2]\n",
    "max(C)"
   ]
  },
  {
   "attachments": {},
   "cell_type": "markdown",
   "metadata": {},
   "source": [
    "# Summary"
   ]
  },
  {
   "cell_type": "code",
   "execution_count": null,
   "metadata": {},
   "outputs": [],
   "source": [
    "y_pred = torch.tensor([qnn_model(x[k], init_theta, theta, W) for k in range(N)], requires_grad=False)\n",
    "mre    = torch.mean(torch.abs((y[s]-y_pred)/y_pred))\n",
    "print(mre.item())"
   ]
  },
  {
   "cell_type": "code",
   "execution_count": null,
   "metadata": {},
   "outputs": [],
   "source": [
    "# cutoff precision converted to bits of precision\n",
    "cutoff = np.sqrt(eps_stop)\n",
    "m      = np.log2(1./cutoff)\n",
    "print(m)"
   ]
  },
  {
   "cell_type": "code",
   "execution_count": null,
   "metadata": {},
   "outputs": [],
   "source": [
    "print(x)\n",
    "print(init_theta)\n",
    "print(theta)\n",
    "print(W)\n",
    "print(y[s])\n",
    "print(y_pred)"
   ]
  }
 ],
 "metadata": {
  "kernelspec": {
   "display_name": "QML-MOR",
   "language": "python",
   "name": "python3"
  },
  "language_info": {
   "codemirror_mode": {
    "name": "ipython",
    "version": 3
   },
   "file_extension": ".py",
   "mimetype": "text/x-python",
   "name": "python",
   "nbconvert_exporter": "python",
   "pygments_lexer": "ipython3",
   "version": "3.11.4"
  },
  "orig_nbformat": 4,
  "vscode": {
   "interpreter": {
    "hash": "46e7eb4246c13550057ff7606884a772512028b1851bd0c4d2a0ba2e0c036465"
   }
  }
 },
 "nbformat": 4,
 "nbformat_minor": 2
}
