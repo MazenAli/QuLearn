{
 "cells": [
  {
   "cell_type": "code",
   "id": "6e4cb30e217e595f",
   "metadata": {
    "ExecuteTime": {
     "end_time": "2024-06-09T13:57:37.058555Z",
     "start_time": "2024-06-09T13:57:37.055651Z"
    }
   },
   "source": [
    "import torch\n",
    "import pennylane as qml\n",
    "\n",
    "from qulearn.hat_basis import HatBasis\n",
    "from qulearn.qlayer import (HatBasisQFE,\n",
    "                            CircuitLayer,\n",
    "                            MeasurementLayer,\n",
    "                            MeasurementType)\n",
    "from qulearn.mps import HatBasisMPS"
   ],
   "outputs": [],
   "execution_count": 496
  },
  {
   "cell_type": "code",
   "id": "8d60b58b23b4e5f3",
   "metadata": {
    "ExecuteTime": {
     "end_time": "2024-06-09T13:57:37.076765Z",
     "start_time": "2024-06-09T13:57:37.071536Z"
    }
   },
   "source": [
    "import torch\n",
    "import tntorch as tn\n",
    "\n",
    "def zkron(t1, t2):\n",
    "    c1 = t1.cores\n",
    "    c2 = t2.cores\n",
    "    c3 = [torch.kron(a, b) for a, b in zip(c1, c2)]\n",
    "    \n",
    "    t3 = tn.Tensor(c3)\n",
    "    return t3\n",
    "\n",
    "def zkron2(tleft, tright):\n",
    "    # assuming same length of left and right\n",
    "    coresleft = tleft.cores\n",
    "    coresright = tright.cores\n",
    "    coresout = []\n",
    "    \n",
    "    for i in range(len(coresleft)):\n",
    "        coreleft = coresleft[i]\n",
    "        coreright = coresright[i]\n",
    "        rankleft1 = coreleft.shape[0]\n",
    "        rankleft2 = coreleft.shape[-1]\n",
    "        rankright1 = coreright.shape[0]\n",
    "        rankright2 = coreright.shape[-1]\n",
    "        \n",
    "        site_dim = coreleft.shape[1]\n",
    "        core = torch.empty((rankleft1*rankright1, site_dim, rankleft2*rankright1))\n",
    "        for k in range(site_dim):\n",
    "            core[:, k, :] = torch.kron(coreleft[:, k, :], torch.eye(rankright1))\n",
    "        coresout.append(core)\n",
    "         \n",
    "        site_dim = coreright.shape[1]\n",
    "        core = torch.empty((rankleft2*rankright1, site_dim, rankleft2*rankright2))\n",
    "        for k in range(site_dim):\n",
    "            core[:, k, :] = torch.kron(torch.eye(rankleft2), coreright[:, k, :])\n",
    "        coresout.append(core)\n",
    "    \n",
    "    tout = tn.Tensor(coresout)\n",
    "    return tout\n",
    "\n",
    "\n",
    "def kron(t1, t2):\n",
    "    c1 = t1.cores\n",
    "    c2 = t2.cores\n",
    "    c3 = c1 + c2\n",
    "    t3 = tn.Tensor(c3)\n",
    "    \n",
    "    return t3"
   ],
   "outputs": [],
   "execution_count": 497
  },
  {
   "cell_type": "code",
   "id": "9e4e98216ac5dfb8",
   "metadata": {
    "ExecuteTime": {
     "end_time": "2024-06-09T13:57:37.083534Z",
     "start_time": "2024-06-09T13:57:37.077829Z"
    }
   },
   "source": [
    "import tntorch as tn\n",
    "import numpy as np\n",
    "\n",
    "t1 = tn.randn([2]*3)\n",
    "t2 = tn.ones([2]*3)\n",
    "\n",
    "T1 = t1.numpy().reshape((2**3))\n",
    "T2 = t2.numpy().reshape((2**3))\n",
    "\n",
    "t3 = kron(t1, t2)\n",
    "T3 = t3.numpy().reshape((2**6))\n",
    "\n",
    "T3_ = np.kron(T1, T2)\n",
    "delta = abs(T3_ - T3)\n",
    "delta = np.linalg.norm(delta)\n",
    "print(\"delta: \", delta)\n",
    "\n",
    "t4 = zkron(t1, t2)\n",
    "t5 = zkron2(t1, t2)\n",
    "T4 = t4.numpy().reshape((2**6))\n",
    "T5 = t5.numpy().reshape((2**6))\n",
    "delta = abs(T4 - T5)\n",
    "delta = np.linalg.norm(delta)\n",
    "\n",
    "print(T3)\n",
    "print(\"=========\")\n",
    "print(T4)\n",
    "print(\"=========\")\n",
    "print(T5)\n",
    "print(\"=========\")\n",
    "print(\"delta: \", delta)"
   ],
   "outputs": [
    {
     "name": "stdout",
     "output_type": "stream",
     "text": [
      "delta:  0.0\n",
      "[ 2.0661619   2.0661619   2.0661619   2.0661619   2.0661619   2.0661619\n",
      "  2.0661619   2.0661619  -0.13385788 -0.13385788 -0.13385788 -0.13385788\n",
      " -0.13385788 -0.13385788 -0.13385788 -0.13385788  1.3508455   1.3508455\n",
      "  1.3508455   1.3508455   1.3508455   1.3508455   1.3508455   1.3508455\n",
      " -0.09869748 -0.09869748 -0.09869748 -0.09869748 -0.09869748 -0.09869748\n",
      " -0.09869748 -0.09869748 -2.4222825  -2.4222825  -2.4222825  -2.4222825\n",
      " -2.4222825  -2.4222825  -2.4222825  -2.4222825   0.1644736   0.1644736\n",
      "  0.1644736   0.1644736   0.1644736   0.1644736   0.1644736   0.1644736\n",
      " -1.5426539  -1.5426539  -1.5426539  -1.5426539  -1.5426539  -1.5426539\n",
      " -1.5426539  -1.5426539   0.12757136  0.12757136  0.12757136  0.12757136\n",
      "  0.12757136  0.12757136  0.12757136  0.12757136]\n",
      "=========\n",
      "[ 2.0661619   2.0661619  -0.13385788 -0.13385788  2.0661619   2.0661619\n",
      " -0.13385788 -0.13385788  1.3508455   1.3508455  -0.09869748 -0.09869748\n",
      "  1.3508455   1.3508455  -0.09869748 -0.09869748  2.0661619   2.0661619\n",
      " -0.13385788 -0.13385788  2.0661619   2.0661619  -0.13385788 -0.13385788\n",
      "  1.3508455   1.3508455  -0.09869748 -0.09869748  1.3508455   1.3508455\n",
      " -0.09869748 -0.09869748 -2.4222825  -2.4222825   0.1644736   0.1644736\n",
      " -2.4222825  -2.4222825   0.1644736   0.1644736  -1.5426539  -1.5426539\n",
      "  0.12757136  0.12757136 -1.5426539  -1.5426539   0.12757136  0.12757136\n",
      " -2.4222825  -2.4222825   0.1644736   0.1644736  -2.4222825  -2.4222825\n",
      "  0.1644736   0.1644736  -1.5426539  -1.5426539   0.12757136  0.12757136\n",
      " -1.5426539  -1.5426539   0.12757136  0.12757136]\n",
      "=========\n",
      "[ 2.0661619   2.0661619  -0.13385788 -0.13385788  2.0661619   2.0661619\n",
      " -0.13385788 -0.13385788  1.3508455   1.3508455  -0.09869748 -0.09869748\n",
      "  1.3508455   1.3508455  -0.09869748 -0.09869748  2.0661619   2.0661619\n",
      " -0.13385788 -0.13385788  2.0661619   2.0661619  -0.13385788 -0.13385788\n",
      "  1.3508455   1.3508455  -0.09869748 -0.09869748  1.3508455   1.3508455\n",
      " -0.09869748 -0.09869748 -2.4222825  -2.4222825   0.1644736   0.1644736\n",
      " -2.4222825  -2.4222825   0.1644736   0.1644736  -1.5426539  -1.5426539\n",
      "  0.12757136  0.12757136 -1.5426539  -1.5426539   0.12757136  0.12757136\n",
      " -2.4222825  -2.4222825   0.1644736   0.1644736  -2.4222825  -2.4222825\n",
      "  0.1644736   0.1644736  -1.5426539  -1.5426539   0.12757136  0.12757136\n",
      " -1.5426539  -1.5426539   0.12757136  0.12757136]\n",
      "=========\n",
      "delta:  0.0\n"
     ]
    }
   ],
   "execution_count": 498
  },
  {
   "metadata": {
    "ExecuteTime": {
     "end_time": "2024-06-09T13:57:37.093027Z",
     "start_time": "2024-06-09T13:57:37.091040Z"
    }
   },
   "cell_type": "code",
   "source": [
    "print(t1)\n",
    "for c in t1.cores:\n",
    "    print(c.shape[0])"
   ],
   "id": "81aca14a0bd6e607",
   "outputs": [
    {
     "name": "stdout",
     "output_type": "stream",
     "text": [
      "3D TT tensor:\n",
      "\n",
      "  2   2   2\n",
      "  |   |   |\n",
      " (0) (1) (2)\n",
      " / \\ / \\ / \\\n",
      "1   2   2   1\n",
      "\n",
      "1\n",
      "2\n",
      "2\n"
     ]
    }
   ],
   "execution_count": 499
  },
  {
   "cell_type": "code",
   "id": "ed6556db86940912",
   "metadata": {
    "ExecuteTime": {
     "end_time": "2024-06-09T13:57:37.106369Z",
     "start_time": "2024-06-09T13:57:37.093989Z"
    }
   },
   "source": [
    "print(t1.numpy().reshape((2**3)))\n",
    "print(t2.numpy().reshape((2**3)))\n",
    "print(T3_)\n",
    "print(T4)"
   ],
   "outputs": [
    {
     "name": "stdout",
     "output_type": "stream",
     "text": [
      "[ 2.0661619  -0.13385788  1.3508455  -0.09869748 -2.4222825   0.1644736\n",
      " -1.5426539   0.12757136]\n",
      "[1. 1. 1. 1. 1. 1. 1. 1.]\n",
      "[ 2.0661619   2.0661619   2.0661619   2.0661619   2.0661619   2.0661619\n",
      "  2.0661619   2.0661619  -0.13385788 -0.13385788 -0.13385788 -0.13385788\n",
      " -0.13385788 -0.13385788 -0.13385788 -0.13385788  1.3508455   1.3508455\n",
      "  1.3508455   1.3508455   1.3508455   1.3508455   1.3508455   1.3508455\n",
      " -0.09869748 -0.09869748 -0.09869748 -0.09869748 -0.09869748 -0.09869748\n",
      " -0.09869748 -0.09869748 -2.4222825  -2.4222825  -2.4222825  -2.4222825\n",
      " -2.4222825  -2.4222825  -2.4222825  -2.4222825   0.1644736   0.1644736\n",
      "  0.1644736   0.1644736   0.1644736   0.1644736   0.1644736   0.1644736\n",
      " -1.5426539  -1.5426539  -1.5426539  -1.5426539  -1.5426539  -1.5426539\n",
      " -1.5426539  -1.5426539   0.12757136  0.12757136  0.12757136  0.12757136\n",
      "  0.12757136  0.12757136  0.12757136  0.12757136]\n",
      "[ 2.0661619   2.0661619  -0.13385788 -0.13385788  2.0661619   2.0661619\n",
      " -0.13385788 -0.13385788  1.3508455   1.3508455  -0.09869748 -0.09869748\n",
      "  1.3508455   1.3508455  -0.09869748 -0.09869748  2.0661619   2.0661619\n",
      " -0.13385788 -0.13385788  2.0661619   2.0661619  -0.13385788 -0.13385788\n",
      "  1.3508455   1.3508455  -0.09869748 -0.09869748  1.3508455   1.3508455\n",
      " -0.09869748 -0.09869748 -2.4222825  -2.4222825   0.1644736   0.1644736\n",
      " -2.4222825  -2.4222825   0.1644736   0.1644736  -1.5426539  -1.5426539\n",
      "  0.12757136  0.12757136 -1.5426539  -1.5426539   0.12757136  0.12757136\n",
      " -2.4222825  -2.4222825   0.1644736   0.1644736  -2.4222825  -2.4222825\n",
      "  0.1644736   0.1644736  -1.5426539  -1.5426539   0.12757136  0.12757136\n",
      " -1.5426539  -1.5426539   0.12757136  0.12757136]\n"
     ]
    }
   ],
   "execution_count": 500
  },
  {
   "cell_type": "code",
   "id": "f5d359f0ae8df759",
   "metadata": {
    "ExecuteTime": {
     "end_time": "2024-06-09T13:57:37.118303Z",
     "start_time": "2024-06-09T13:57:37.115322Z"
    }
   },
   "source": [
    "import tntorch\n",
    "try:\n",
    "    from typing import TypeAlias\n",
    "except ImportError:\n",
    "    from typing_extensions import TypeAlias\n",
    "MPS: TypeAlias = tntorch.tensor.Tensor\n",
    "Tensor: TypeAlias = torch.Tensor\n",
    "\n",
    "class LinearBasis2DMPS:\n",
    "    def __init__(self, basis: HatBasis, zorder: bool = False) -> None:\n",
    "        self.basis = basis\n",
    "\n",
    "        num_qubits = 2*math.log2(basis.num_nodes)\n",
    "        if not num_qubits.is_integer():\n",
    "            raise ValueError(\n",
    "                f\"Number of nodes ({basis.num_nodes}) \" \"must be a power of 2.\"\n",
    "            )\n",
    "\n",
    "        self.num_sites = int(num_qubits)\n",
    "        self.basis1Dmps = HatBasisMPS(basis)\n",
    "        self.zorder = zorder\n",
    "        \n",
    "    def __call__(self, x: Tensor) -> MPS:\n",
    "        \"\"\"\n",
    "        Constructs the MPS of the hat basis evaluated at a given point x.\n",
    "\n",
    "        :param x: The input at which to evaluate the hat basis.\n",
    "        :type x: Tensor\n",
    "        :returns: The MPS at point x.\n",
    "        :rtype: MPS\n",
    "        \"\"\"\n",
    "\n",
    "        return self.eval(x)\n",
    "\n",
    "    def eval(self, x: Tensor) -> MPS:\n",
    "        \"\"\"\n",
    "        Constructs the MPS of the hat basis evaluated at a given point x.\n",
    "\n",
    "        :param x: The input at which to evaluate the hat basis.\n",
    "        :type x: Tensor\n",
    "        :returns: The MPS at point x.\n",
    "        :rtype: MPS\n",
    "        \"\"\"\n",
    "        \n",
    "        mpsx = self.basis1Dmps(x[0])\n",
    "        mpsy = self.basis1Dmps(x[1])\n",
    "        \n",
    "        if self.zorder:\n",
    "            return zkron2(mpsx, mpsy)\n",
    "        \n",
    "        return kron(mpsx, mpsy)"
   ],
   "outputs": [],
   "execution_count": 501
  },
  {
   "cell_type": "code",
   "id": "47ef065abf26f244",
   "metadata": {
    "ExecuteTime": {
     "end_time": "2024-06-09T13:57:37.127311Z",
     "start_time": "2024-06-09T13:57:37.120930Z"
    }
   },
   "source": [
    "try:\n",
    "    from typing import TypeAlias\n",
    "except ImportError:\n",
    "    from typing_extensions import TypeAlias\n",
    "\n",
    "from typing import Iterable, Any, Optional, Union, Dict\n",
    "\n",
    "from qulearn.mps import HatBasisMPS, MPSQGates\n",
    "\n",
    "Wires: TypeAlias = Union[int, Iterable[Any]]\n",
    "\n",
    "class Linear2DBasisQFE(CircuitLayer):\n",
    "    \"\"\"\n",
    "    Layer for the 1D hat basis quantum feature embedding.\n",
    "\n",
    "    :param basis: The hat basis class.\n",
    "    :type basis: HatBasis\n",
    "    :param wires: The wires to be used by the layer\n",
    "    :type wires: Wires\n",
    "    :param sqrt: Set flag to take square roots before applying hat basis.\n",
    "    :type sqrt: bool\n",
    "    :param normalize: Set flag to normalize basis vector before embedding.\n",
    "    :type normalize: bool\n",
    "    \"\"\"\n",
    "\n",
    "    def __init__(\n",
    "        self,\n",
    "        wires: Wires,\n",
    "        basis: HatBasis,\n",
    "        sqrt: bool = False,\n",
    "        normalize: bool = False,\n",
    "        zorder: bool = False,\n",
    "    ) -> None:\n",
    "        super().__init__(wires)\n",
    "        self.basis = basis\n",
    "        self.sqrt = sqrt\n",
    "        self.normalize = normalize\n",
    "        self.norm = 1.0\n",
    "        self.hbmps = HatBasisMPS(basis)\n",
    "        self.zorder = zorder\n",
    "        self.mps = None\n",
    "        self.mps1 = None\n",
    "        self.mps2 = None\n",
    "\n",
    "    def circuit(self, x: Tensor) -> None:\n",
    "        \"\"\"\n",
    "        Define the quantum circuit for this layer.\n",
    "\n",
    "        :param x: Input tensor that is passed to the quantum circuit.\n",
    "        :type x: Tensor\n",
    "        \"\"\"\n",
    "\n",
    "        x1 = x[0]\n",
    "        x2 = x[1]\n",
    "        position1 = int(self.basis.position(x1))\n",
    "        position2 = int(self.basis.position(x2))\n",
    "        a1, b1 = self.basis.nonz_vals(x1)\n",
    "        a2, b2 = self.basis.nonz_vals(x2)\n",
    "\n",
    "        if self.sqrt:\n",
    "            # sometimes the values are close to 0 and negative\n",
    "            a1 = torch.sqrt(torch.abs(a1))\n",
    "            b1 = torch.sqrt(torch.abs(b1))\n",
    "            a2 = torch.sqrt(torch.abs(a2))\n",
    "            b2 = torch.sqrt(torch.abs(b2))\n",
    "\n",
    "        # TODO: cover the case where x or y are outside of bounds\n",
    "\n",
    "        val1 = a1*a2\n",
    "        val2 = a1*b2\n",
    "        val3 = a2*b1\n",
    "        val4 = a2*b2\n",
    "        self.norm = torch.sqrt(val1**2 + val2**2 + val3**2 +val4**2)\n",
    "        \n",
    "        if self.normalize:\n",
    "            a1 /= torch.sqrt(self.norm)\n",
    "            b1 /= torch.sqrt(self.norm)\n",
    "            a2 /= torch.sqrt(self.norm)\n",
    "            b2 /= torch.sqrt(self.norm)\n",
    "            \n",
    "        self.norm = self.norm.item()\n",
    "\n",
    "        # for compatibility (TODO: remove)\n",
    "        first1 = a1.item()\n",
    "        second1 = b1.item()\n",
    "        first2 = a2.item()\n",
    "        second2 = b2.item()\n",
    "\n",
    "        mps1 = self.hbmps.mps_hatbasis(first1, second1, position1)\n",
    "        mps2 = self.hbmps.mps_hatbasis(first2, second2, position2)\n",
    "\n",
    "        if self.zorder:\n",
    "            mps = zkron2(mps2, mps1)\n",
    "        else:\n",
    "            mps = kron(mps2, mps1)\n",
    "            \n",
    "        self.mps1 = mps1\n",
    "        self.mps2 = mps2\n",
    "        self.mps = mps\n",
    "        mpsgates = MPSQGates(mps)\n",
    "\n",
    "        s = mpsgates.max_rank_power\n",
    "        Us = mpsgates.qgates()\n",
    "        N = len(Us)\n",
    "        count = 0\n",
    "        for k in range(N - 1, -1, -1):\n",
    "            wires_idx = list(\n",
    "                range(self.num_wires - count - s - 1, self.num_wires - count)\n",
    "            )\n",
    "            subwires = [self.wires[idx] for idx in wires_idx]\n",
    "            qml.QubitUnitary(Us[k], wires=subwires, unitary_check=False)\n",
    "\n",
    "            count += 1\n",
    "    \n",
    "    def compute_norm(self, x: Tensor) -> float:\n",
    "\n",
    "        x1 = x[0]\n",
    "        x2 = x[1]\n",
    "        a1, b1 = self.basis.nonz_vals(x1)\n",
    "        a2, b2 = self.basis.nonz_vals(x2)\n",
    "\n",
    "        if self.sqrt:\n",
    "            # sometimes the values are close to 0 and negative\n",
    "            a1 = torch.sqrt(torch.abs(a1))\n",
    "            b1 = torch.sqrt(torch.abs(b1))\n",
    "            a2 = torch.sqrt(torch.abs(a2))\n",
    "            b2 = torch.sqrt(torch.abs(b2))\n",
    "\n",
    "        # TODO: cover the case where x or y are outside of bounds\n",
    "\n",
    "        val1 = a1*a2\n",
    "        val2 = a1*b2\n",
    "        val3 = a2*b1\n",
    "        val4 = a2*b2\n",
    "        self.norm = torch.sqrt(val1**2 + val2**2 + val3**2 +val4**2).item()\n",
    "        \n",
    "        return self.norm"
   ],
   "outputs": [],
   "execution_count": 502
  },
  {
   "cell_type": "code",
   "id": "557b395bbcf03f54",
   "metadata": {
    "ExecuteTime": {
     "end_time": "2024-06-09T13:57:37.133366Z",
     "start_time": "2024-06-09T13:57:37.128089Z"
    }
   },
   "source": [
    "num_qubits = 2\n",
    "num_nodes = 2**num_qubits\n",
    "a = -1.0\n",
    "b = 1.0\n",
    "hat_basis = HatBasis(a=a, b=b, num_nodes=num_nodes)\n",
    "\n",
    "embed = Linear2DBasisQFE(wires=2*num_qubits, basis=hat_basis, sqrt=True, normalize=False)\n",
    "obs = qml.PauliZ(0)\n",
    "model = MeasurementLayer(embed, observables=obs, measurement_type=MeasurementType.Expectation)\n",
    "drawer = qml.draw(model.qnode, show_all_wires=True, expansion_strategy=\"device\")\n",
    "x = torch.tensor([0.0, 0.0])\n",
    "print(drawer(x))"
   ],
   "outputs": [
    {
     "name": "stdout",
     "output_type": "stream",
     "text": [
      "0: ───────────────╭U(M2)─┤  <Z>\n",
      "1: ────────╭U(M1)─╰U(M2)─┤     \n",
      "2: ─╭U(M0)─╰U(M1)────────┤     \n",
      "3: ─╰U(M0)───────────────┤     \n"
     ]
    }
   ],
   "execution_count": 503
  },
  {
   "metadata": {
    "ExecuteTime": {
     "end_time": "2024-06-09T13:57:37.138782Z",
     "start_time": "2024-06-09T13:57:37.133910Z"
    }
   },
   "cell_type": "code",
   "source": [
    "import numpy as np\n",
    "\n",
    "num_qubits = 2\n",
    "num_nodes = 2**num_qubits\n",
    "a = -1.0\n",
    "b = 1.0\n",
    "hat_basis = HatBasis(a=a, b=b, num_nodes=num_nodes)\n",
    "\n",
    "embed = HatBasisQFE(wires=num_qubits, basis=hat_basis, sqrt=False, normalize=False)\n",
    "\n",
    "dev = qml.device(\"default.qubit\", wires=num_qubits)\n",
    "@qml.qnode(dev)\n",
    "def circuit(x):\n",
    "    embed.circuit(x)\n",
    "    return np.real(qml.state())\n",
    "\n",
    "\n",
    "x = torch.tensor([0.15])\n",
    "out = circuit(x)\n",
    "out = np.real(out)\n",
    "print(out)"
   ],
   "id": "3068b30bd9e6ee63",
   "outputs": [
    {
     "name": "stdout",
     "output_type": "stream",
     "text": [
      "[0.         0.27500004 0.72499996 0.        ]\n"
     ]
    }
   ],
   "execution_count": 504
  },
  {
   "metadata": {
    "ExecuteTime": {
     "end_time": "2024-06-09T13:57:37.142680Z",
     "start_time": "2024-06-09T13:57:37.139844Z"
    }
   },
   "cell_type": "code",
   "source": [
    "hbmps = HatBasisMPS(hat_basis)\n",
    "x = torch.tensor([-0.333])\n",
    "y = torch.tensor([-1.])\n",
    "mpsx = hbmps(x)\n",
    "mpsy = hbmps(y)\n",
    "mps = kron(mpsy, mpsx)\n",
    "print(mpsx.numpy().reshape(-1))\n",
    "print(mpsy.numpy().reshape(-1))\n",
    "print(mps.numpy().reshape(-1))"
   ],
   "id": "281d58bbae58820a",
   "outputs": [
    {
     "name": "stdout",
     "output_type": "stream",
     "text": [
      "[0.0000000e+00 9.9950004e-01 4.9996376e-04 0.0000000e+00]\n",
      "[1. 0. 0. 0.]\n",
      "[0.0000000e+00 9.9950004e-01 4.9996376e-04 0.0000000e+00 0.0000000e+00\n",
      " 0.0000000e+00 0.0000000e+00 0.0000000e+00 0.0000000e+00 0.0000000e+00\n",
      " 0.0000000e+00 0.0000000e+00 0.0000000e+00 0.0000000e+00 0.0000000e+00\n",
      " 0.0000000e+00]\n"
     ]
    }
   ],
   "execution_count": 505
  },
  {
   "cell_type": "code",
   "id": "93646da4c54dfbff",
   "metadata": {
    "ExecuteTime": {
     "end_time": "2024-06-09T13:57:37.149294Z",
     "start_time": "2024-06-09T13:57:37.143233Z"
    }
   },
   "source": [
    "import numpy as np\n",
    "\n",
    "num_qubits = 2\n",
    "num_nodes = 2**num_qubits\n",
    "a = -1.0\n",
    "b = 1.0\n",
    "hat_basis = HatBasis(a=a, b=b, num_nodes=num_nodes)\n",
    "\n",
    "embed = Linear2DBasisQFE(wires=2*num_qubits, basis=hat_basis, sqrt=False, normalize=False, zorder=True)\n",
    "\n",
    "dev = qml.device(\"default.qubit\", wires=2*num_qubits)\n",
    "@qml.qnode(dev)\n",
    "def circuit(x):\n",
    "    embed.circuit(x)\n",
    "    return qml.state()\n",
    "\n",
    "x = torch.tensor([-0., -0.])\n",
    "out = np.real(circuit(x))\n",
    "print(out)\n",
    "print(\"norm: \", np.linalg.norm(out))\n",
    "print(out[5])"
   ],
   "outputs": [
    {
     "name": "stdout",
     "output_type": "stream",
     "text": [
      "[0.         0.         0.         0.25000003 0.         0.\n",
      " 0.25000001 0.         0.         0.24999999 0.         0.\n",
      " 0.24999997 0.         0.         0.        ]\n",
      "norm:  0.5000000039591517\n",
      "0.0\n"
     ]
    }
   ],
   "execution_count": 506
  },
  {
   "metadata": {
    "ExecuteTime": {
     "end_time": "2024-06-09T13:57:37.151618Z",
     "start_time": "2024-06-09T13:57:37.149815Z"
    }
   },
   "cell_type": "code",
   "source": "print(embed.basis.nonz_vals(x[1]))",
   "id": "fb3331067291afc5",
   "outputs": [
    {
     "name": "stdout",
     "output_type": "stream",
     "text": [
      "(tensor(0.5000), tensor(0.5000))\n"
     ]
    }
   ],
   "execution_count": 507
  },
  {
   "metadata": {
    "ExecuteTime": {
     "end_time": "2024-06-09T13:57:37.154773Z",
     "start_time": "2024-06-09T13:57:37.152106Z"
    }
   },
   "cell_type": "code",
   "source": [
    "mps1 = embed.mps1\n",
    "print(mps1.numpy().reshape(-1))\n",
    "mps2 = embed.mps2\n",
    "print(mps2.numpy().reshape(-1))\n",
    "mps = embed.mps\n",
    "print(mps.numpy().reshape(-1))"
   ],
   "id": "136ef4cd92b91a96",
   "outputs": [
    {
     "name": "stdout",
     "output_type": "stream",
     "text": [
      "[0.         0.50000006 0.49999997 0.        ]\n",
      "[0.         0.50000006 0.49999997 0.        ]\n",
      "[0.         0.         0.         0.25000006 0.         0.\n",
      " 0.25       0.         0.         0.25       0.         0.\n",
      " 0.24999997 0.         0.         0.        ]\n"
     ]
    }
   ],
   "execution_count": 508
  },
  {
   "metadata": {
    "ExecuteTime": {
     "end_time": "2024-06-09T13:57:39.880951Z",
     "start_time": "2024-06-09T13:57:37.155358Z"
    }
   },
   "cell_type": "code",
   "source": [
    "import torch\n",
    "import matplotlib.pyplot as plt\n",
    "\n",
    "num_pnts = 50\n",
    "\n",
    "# Generate a grid of x and y values\n",
    "x = torch.linspace(-0.99, 0.99, num_pnts)\n",
    "y = torch.linspace(-0.99, 0.99, num_pnts)\n",
    "X, Y = torch.meshgrid(x, y, indexing='xy')\n",
    "Z = torch.empty(num_pnts, num_pnts)\n",
    "\n",
    "# Evaluate the circuit at each point in the grid and extract the j-th component\n",
    "idx = 12\n",
    "for i in range(num_pnts):\n",
    "    for k in range(num_pnts):\n",
    "        xy = torch.tensor([X[i, k], Y[i, k]], dtype=torch.float32)\n",
    "        out = circuit(xy)[idx]\n",
    "        Z[i, k] = torch.tensor(out)\n",
    "# Convert tensors to numpy arrays for plotting\n",
    "X = X.numpy()\n",
    "Y = Y.numpy()\n",
    "Z = Z.numpy()\n",
    "\n",
    "# Create a 2D heatmap plot\n",
    "plt.figure(figsize=(10, 6))\n",
    "plt.imshow(Z, extent=[-1, 1, -1, 1], origin='lower', cmap='viridis', aspect='auto')\n",
    "\n",
    "# Add labels and title\n",
    "plt.xlabel('$x$')\n",
    "plt.ylabel('$y$')\n",
    "plt.title(f\"$\\\\varphi_j$\")\n",
    "\n",
    "# Add a color bar which maps values to colors\n",
    "plt.colorbar(label=f'$\\\\varphi_j$')\n",
    "\n",
    "# Save the figure\n",
    "plt.tight_layout()\n",
    "\n",
    "# Show the plot\n",
    "plt.show()"
   ],
   "id": "8f41ff534081649d",
   "outputs": [
    {
     "data": {
      "text/plain": [
       "<Figure size 1000x600 with 2 Axes>"
      ],
      "image/png": "[encoded data removed]"
     },
     "metadata": {},
     "output_type": "display_data"
    }
   ],
   "execution_count": 509
  },
  {
   "metadata": {
    "ExecuteTime": {
     "end_time": "2024-06-09T13:57:39.899341Z",
     "start_time": "2024-06-09T13:57:39.881504Z"
    }
   },
   "cell_type": "code",
   "source": [
    "import torch\n",
    "import matplotlib.pyplot as plt\n",
    "import pennylane as qml\n",
    "\n",
    "num_pnts = 100\n",
    "\n",
    "# Generate a grid of x and y values\n",
    "x = torch.linspace(-1.0, 1.0, num_pnts)\n",
    "y = torch.linspace(-1.0, 1.0, num_pnts)\n",
    "X, Y = torch.meshgrid(x, y)\n",
    "Z = torch.empty(num_pnts, num_pnts)\n",
    "\n",
    "# Evaluate the circuit at each point in the grid and extract the j-th component\n",
    "idx = 36\n",
    "for i in range(num_pnts):\n",
    "    for k in range(num_pnts):\n",
    "        xy = torch.tensor([X[i, k], Y[i, k]], dtype=torch.float32)\n",
    "        out = circuit(xy)[idx]\n",
    "        Z[i, k] = torch.tensor(out)\n",
    "\n",
    "# Convert tensors to numpy arrays for plotting\n",
    "X = X.numpy()\n",
    "Y = Y.numpy()\n",
    "Z = Z.numpy()\n",
    "\n",
    "# Create a 3D surface plot\n",
    "fig = plt.figure(figsize=(10, 6))\n",
    "ax = fig.add_subplot(111, projection='3d')\n",
    "surf = ax.plot_surface(X, Y, Z, cmap='viridis')\n",
    "\n",
    "# Add labels and title\n",
    "ax.set_xlabel('$x$')\n",
    "ax.set_ylabel('$y$')\n",
    "ax.set_zlabel(f'$z_{j}$')\n",
    "ax.set_title(f\"$\\langle Z_0\\\\rangle$ (component {j})\")\n",
    "\n",
    "ax.view_init(elev=30, azim=0)\n",
    "\n",
    "# Add a color bar which maps values to colors\n",
    "fig.colorbar(surf, ax=ax, shrink=0.5, aspect=5)\n",
    "\n",
    "# Save the figure\n",
    "plt.tight_layout()\n",
    "\n",
    "# Show the plot\n",
    "plt.show()"
   ],
   "id": "566631b16fa32330",
   "outputs": [
    {
     "ename": "IndexError",
     "evalue": "index 36 is out of bounds for axis 0 with size 16",
     "output_type": "error",
     "traceback": [
      "\u001B[0;31m---------------------------------------------------------------------------\u001B[0m",
      "\u001B[0;31mIndexError\u001B[0m                                Traceback (most recent call last)",
      "Cell \u001B[0;32mIn[510], line 18\u001B[0m\n\u001B[1;32m     16\u001B[0m     \u001B[38;5;28;01mfor\u001B[39;00m k \u001B[38;5;129;01min\u001B[39;00m \u001B[38;5;28mrange\u001B[39m(num_pnts):\n\u001B[1;32m     17\u001B[0m         xy \u001B[38;5;241m=\u001B[39m torch\u001B[38;5;241m.\u001B[39mtensor([X[i, k], Y[i, k]], dtype\u001B[38;5;241m=\u001B[39mtorch\u001B[38;5;241m.\u001B[39mfloat32)\n\u001B[0;32m---> 18\u001B[0m         out \u001B[38;5;241m=\u001B[39m \u001B[43mcircuit\u001B[49m\u001B[43m(\u001B[49m\u001B[43mxy\u001B[49m\u001B[43m)\u001B[49m\u001B[43m[\u001B[49m\u001B[43midx\u001B[49m\u001B[43m]\u001B[49m\n\u001B[1;32m     19\u001B[0m         Z[i, k] \u001B[38;5;241m=\u001B[39m torch\u001B[38;5;241m.\u001B[39mtensor(out)\n\u001B[1;32m     21\u001B[0m \u001B[38;5;66;03m# Convert tensors to numpy arrays for plotting\u001B[39;00m\n",
      "File \u001B[0;32m~/Projects/QuLearn/.venv/lib/python3.11/site-packages/pennylane/numpy/tensor.py:186\u001B[0m, in \u001B[0;36mtensor.__getitem__\u001B[0;34m(self, *args, **kwargs)\u001B[0m\n\u001B[1;32m    185\u001B[0m \u001B[38;5;28;01mdef\u001B[39;00m \u001B[38;5;21m__getitem__\u001B[39m(\u001B[38;5;28mself\u001B[39m, \u001B[38;5;241m*\u001B[39margs, \u001B[38;5;241m*\u001B[39m\u001B[38;5;241m*\u001B[39mkwargs):\n\u001B[0;32m--> 186\u001B[0m     item \u001B[38;5;241m=\u001B[39m \u001B[38;5;28;43msuper\u001B[39;49m\u001B[43m(\u001B[49m\u001B[43m)\u001B[49m\u001B[38;5;241;43m.\u001B[39;49m\u001B[38;5;21;43m__getitem__\u001B[39;49m\u001B[43m(\u001B[49m\u001B[38;5;241;43m*\u001B[39;49m\u001B[43margs\u001B[49m\u001B[43m,\u001B[49m\u001B[43m \u001B[49m\u001B[38;5;241;43m*\u001B[39;49m\u001B[38;5;241;43m*\u001B[39;49m\u001B[43mkwargs\u001B[49m\u001B[43m)\u001B[49m\n\u001B[1;32m    188\u001B[0m     \u001B[38;5;28;01mif\u001B[39;00m \u001B[38;5;129;01mnot\u001B[39;00m \u001B[38;5;28misinstance\u001B[39m(item, tensor):\n\u001B[1;32m    189\u001B[0m         item \u001B[38;5;241m=\u001B[39m tensor(item, requires_grad\u001B[38;5;241m=\u001B[39m\u001B[38;5;28mself\u001B[39m\u001B[38;5;241m.\u001B[39mrequires_grad)\n",
      "\u001B[0;31mIndexError\u001B[0m: index 36 is out of bounds for axis 0 with size 16"
     ]
    }
   ],
   "execution_count": 510
  },
  {
   "cell_type": "code",
   "id": "69ff92d61130136a",
   "metadata": {
    "ExecuteTime": {
     "end_time": "2024-06-09T13:57:39.900118Z",
     "start_time": "2024-06-09T13:57:39.900072Z"
    }
   },
   "source": [
    "num_pnts = 500\n",
    "xvals = torch.linspace(-1.0, 1.0, num_pnts).unsqueeze(-1)\n",
    "yvals = model(xvals)\n",
    "\n",
    "plt.figure(figsize=(10, 6))\n",
    "plt.plot(xvals, yvals)\n",
    "plt.xlabel('$x$')\n",
    "plt.title(\"$\\langle Z_0\\\\rangle$\")\n",
    "plt.tight_layout()\n",
    "plt.show()"
   ],
   "outputs": [],
   "execution_count": null
  },
  {
   "cell_type": "code",
   "id": "66ba7a519125ef4e",
   "metadata": {},
   "source": [
    "import torch\n",
    "import matplotlib.pyplot as plt\n",
    "from mpl_toolkits.mplot3d import Axes3D\n",
    "import numpy as np\n",
    "\n",
    "# Define the number of points in each dimension\n",
    "num_pnts = 50\n",
    "\n",
    "# Generate a grid of x and y values\n",
    "x = torch.linspace(-1.0, 1.0, num_pnts)\n",
    "y = torch.linspace(-1.0, 1.0, num_pnts)\n",
    "X, Y = torch.meshgrid(x, y)\n",
    "Z = torch.empty(num_pnts, num_pnts)\n",
    "\n",
    "# Evaluate the model at each point in the grid\n",
    "for i in range(num_pnts):\n",
    "    for j in range(num_pnts):\n",
    "        xy = torch.tensor([[X[i, j], Y[i, j]]])\n",
    "        Z[i, j] = model(xy).item()\n",
    "\n",
    "# Convert tensors to numpy arrays for plotting\n",
    "X = X.numpy()\n",
    "Y = Y.numpy()\n",
    "Z = Z.numpy()\n",
    "\n",
    "# Create a 3D surface plot\n",
    "fig = plt.figure(figsize=(10, 6))\n",
    "ax = fig.add_subplot(111, projection='3d')\n",
    "surf = ax.plot_surface(X, Y, Z, cmap='viridis')\n",
    "\n",
    "# Add labels and title\n",
    "ax.set_xlabel('$x$')\n",
    "ax.set_ylabel('$y$')\n",
    "ax.set_zlabel('$z$')\n",
    "ax.set_title(\"$\\langle Z_0\\\\rangle$\")\n",
    "\n",
    "# Add a color bar which maps values to colors\n",
    "fig.colorbar(surf, ax=ax, shrink=0.5, aspect=5)\n",
    "\n",
    "# Save the figure\n",
    "plt.tight_layout()\n",
    "\n",
    "# Show the plot\n",
    "plt.show()"
   ],
   "outputs": [],
   "execution_count": null
  },
  {
   "cell_type": "code",
   "id": "6ef1e0d8cb1b72f1",
   "metadata": {},
   "source": [],
   "outputs": [],
   "execution_count": null
  }
 ],
 "metadata": {
  "kernelspec": {
   "display_name": "Python 3 (ipykernel)",
   "language": "python",
   "name": "python3"
  },
  "language_info": {
   "codemirror_mode": {
    "name": "ipython",
    "version": 3
   },
   "file_extension": ".py",
   "mimetype": "text/x-python",
   "name": "python",
   "nbconvert_exporter": "python",
   "pygments_lexer": "ipython3",
   "version": "3.11.8"
  }
 },
 "nbformat": 4,
 "nbformat_minor": 5
}
